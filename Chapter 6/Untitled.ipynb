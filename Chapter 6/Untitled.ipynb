{
 "cells": [
  {
   "cell_type": "code",
   "execution_count": 1,
   "id": "6f503bf9",
   "metadata": {},
   "outputs": [],
   "source": [
    "# Create a empty dictionary \n",
    "# ask the user to input items in dictionary \n",
    "# I pick key and hobby \n",
    "# give the user to change the key, add key, or delete key \n",
    "# use function get, pop, del"
   ]
  },
  {
   "cell_type": "code",
   "execution_count": 18,
   "id": "892edcb8",
   "metadata": {},
   "outputs": [
    {
     "ename": "SyntaxError",
     "evalue": "invalid syntax (580004111.py, line 11)",
     "output_type": "error",
     "traceback": [
      "\u001b[0;36m  Cell \u001b[0;32mIn[18], line 11\u001b[0;36m\u001b[0m\n\u001b[0;31m    semester[]\u001b[0m\n\u001b[0m             ^\u001b[0m\n\u001b[0;31mSyntaxError\u001b[0m\u001b[0;31m:\u001b[0m invalid syntax\n"
     ]
    }
   ],
   "source": [
    "def update():\n",
    "    pass\n",
    "def delete():\n",
    "    # ask for the key to delete \n",
    "    pass\n",
    "def add(semester):\n",
    "    # ask for the key to add\n",
    "    # check if it has been added \n",
    "    newCode = \"Code to add: \"\n",
    "    newClass = \"Class to add: \"\n",
    "    semester[]\n",
    "    pass\n",
    "def show(semester):\n",
    "    for i, j in semester.item():\n",
    "        print(i + '  ' + j)\n",
    "def clear(semster):\n",
    "    semester.clear()\n",
    "    return semester\n",
    "def main():\n",
    "    \n",
    "    semester = {}\n",
    "    for i in range(3):\n",
    "        courseCode = input(\"Add the course code: \")\n",
    "        courseLevel = input(\"Add the course level: \")\n",
    "    \n",
    "        # update the semester \n",
    "        semester.update({courseCode:courseLevel})\n",
    "    # print the dictionary\n",
    "    print(semester.items())\n",
    "    while True:\n",
    "        \n",
    "        print(\"Update - update the courses\")\n",
    "        print(\"Delete - delete the courses\")\n",
    "        print(\"Add - add the courses\")\n",
    "        print(\"Clear - clear the courses\")\n",
    "        print(\"exit- exit the program\")\n",
    "        userInput = input(\"choose your fate: \")\n",
    "        # conditionals \n",
    "        if userInput == 'update':\n",
    "            update(semester)\n",
    "        elif userInput == 'del':\n",
    "            delete(semester)\n",
    "        elif userInput == 'add':\n",
    "            add(semester)\n",
    "        elif userInput == 'show':\n",
    "            show()\n",
    "        elif userInput == 'clear':\n",
    "            clear(semster)\n",
    "        elif userInput == 'exit':\n",
    "            print(\"Bye!\")\n",
    "            break\n",
    "        else:\n",
    "            print(\"Invalid choice: please enter a listed choice. \")\n",
    "\n",
    "if __name__ == \"__main__\":\n",
    "    main()"
   ]
  },
  {
   "cell_type": "code",
   "execution_count": 16,
   "id": "5076b8cc",
   "metadata": {},
   "outputs": [
    {
     "name": "stdout",
     "output_type": "stream",
     "text": [
      "Enter a paragraph\n"
     ]
    },
    {
     "ename": "NameError",
     "evalue": "name 'df' is not defined",
     "output_type": "error",
     "traceback": [
      "\u001b[0;31m---------------------------------------------------------------------------\u001b[0m",
      "\u001b[0;31mNameError\u001b[0m                                 Traceback (most recent call last)",
      "Cell \u001b[0;32mIn[16], line 8\u001b[0m\n\u001b[1;32m      4\u001b[0m sentence \u001b[38;5;241m=\u001b[39m {} \u001b[38;5;66;03m# empty dictionary \u001b[39;00m\n\u001b[1;32m      6\u001b[0m userEng \u001b[38;5;241m=\u001b[39m \u001b[38;5;28minput\u001b[39m(\u001b[38;5;124m\"\u001b[39m\u001b[38;5;124mEnter a paragraph\u001b[39m\u001b[38;5;124m\"\u001b[39m)\n\u001b[0;32m----> 8\u001b[0m df \u001b[38;5;241m=\u001b[39m df\u001b[38;5;241m.\u001b[39msplit(\u001b[38;5;124m\"\u001b[39m\u001b[38;5;124m \u001b[39m\u001b[38;5;124m\"\u001b[39m)\n",
      "\u001b[0;31mNameError\u001b[0m: name 'df' is not defined"
     ]
    }
   ],
   "source": [
    "# ask the user to enter a sentence or paragraph\n",
    "# count the occurance \n",
    "\n",
    "sentence = {} # empty dictionary \n",
    "\n",
    "userEng = input(\"Enter a paragraph\")\n",
    "\n",
    "dfList = userEng.split(\" \")\n",
    "\n",
    "for i in dfList:\n",
    "    counter = 1\n",
    "    if i is not in sentence:\n",
    "        df[i] = counter\n",
    "        counter += 1\n",
    "    else:\n",
    "        df[i] = counter"
   ]
  },
  {
   "cell_type": "code",
   "execution_count": null,
   "id": "0048153e",
   "metadata": {},
   "outputs": [],
   "source": []
  }
 ],
 "metadata": {
  "kernelspec": {
   "display_name": "Python 3 (ipykernel)",
   "language": "python",
   "name": "python3"
  },
  "language_info": {
   "codemirror_mode": {
    "name": "ipython",
    "version": 3
   },
   "file_extension": ".py",
   "mimetype": "text/x-python",
   "name": "python",
   "nbconvert_exporter": "python",
   "pygments_lexer": "ipython3",
   "version": "3.11.5"
  }
 },
 "nbformat": 4,
 "nbformat_minor": 5
}
