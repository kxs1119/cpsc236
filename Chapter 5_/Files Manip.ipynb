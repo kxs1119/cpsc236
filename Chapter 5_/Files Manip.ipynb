{
 "cells": [
  {
   "cell_type": "code",
   "execution_count": 1,
   "id": "c91ad23c",
   "metadata": {},
   "outputs": [
    {
     "name": "stdout",
     "output_type": "stream",
     "text": [
      "1\n",
      "2\n",
      "3\n",
      "4\n",
      "5\n"
     ]
    }
   ],
   "source": [
    "# Read the text file \n",
    "\n",
    "f = open(\"numbers.txt\",'r')\n",
    "\n",
    "text = f.read() # reads the entire file and store in text \n",
    "print(text)\n",
    "f.close()"
   ]
  },
  {
   "cell_type": "code",
   "execution_count": 2,
   "id": "4f47f2dd",
   "metadata": {},
   "outputs": [
    {
     "name": "stdout",
     "output_type": "stream",
     "text": [
      "\n",
      "4\n",
      "5\n"
     ]
    }
   ],
   "source": [
    "# Read the text file \n",
    "f= open(\"numbers.txt\",'r')\n",
    "f.seek(5) # seeking the 5th position file \n",
    "\n",
    "text = f.read() # reads the entire file and store in text \n",
    "print(text)\n",
    "f.close()"
   ]
  },
  {
   "cell_type": "code",
   "execution_count": 3,
   "id": "82f1f79f",
   "metadata": {},
   "outputs": [
    {
     "name": "stdout",
     "output_type": "stream",
     "text": [
      "1\n",
      "\n",
      "['2\\n', '3\\n', '4\\n', '5']\n"
     ]
    }
   ],
   "source": [
    "# to read individual line\n",
    "\n",
    "# Read the text file \n",
    "\n",
    "f = open(\"numbers.txt\",'r')\n",
    "line1 = f.readline() # reads indivudal lines\n",
    "l = f.readlines() # reads list of lines available in file\n",
    "\n",
    "print(line1)\n",
    "print(l)\n",
    "\n",
    "f.close()"
   ]
  },
  {
   "cell_type": "code",
   "execution_count": 7,
   "id": "048dfad2",
   "metadata": {},
   "outputs": [],
   "source": [
    "# opening and writing a new file \n",
    "\n",
    "# Read the text file \n",
    "\n",
    "f = open(\"test.txt\",'w')\n",
    "f.write(\"new text 2\") # writing text \n",
    "f.close()"
   ]
  },
  {
   "cell_type": "code",
   "execution_count": 8,
   "id": "505e4294",
   "metadata": {},
   "outputs": [],
   "source": [
    "# opening and writing a new file \n",
    "\n",
    "# Appending the line to the file\n",
    "\n",
    "f = open(\"test.txt\",'a')\n",
    "f.write(\"new text 3\") # writing text \n",
    "f.close()"
   ]
  },
  {
   "cell_type": "code",
   "execution_count": 9,
   "id": "953d1f05",
   "metadata": {},
   "outputs": [],
   "source": [
    "# opening to writing \n",
    "\n",
    "f = open(\"test.txt\", 'w')\n",
    "x= 10\n",
    "f.write(str(x))\n",
    "f.close()"
   ]
  },
  {
   "cell_type": "code",
   "execution_count": 12,
   "id": "7017eb1d",
   "metadata": {},
   "outputs": [
    {
     "name": "stdout",
     "output_type": "stream",
     "text": [
      "10\n"
     ]
    }
   ],
   "source": [
    "# opening to read the file  \n",
    "\n",
    "f = open(\"test.txt\", 'r')\n",
    "x= f.read()\n",
    "print(x)\n",
    "f.close()"
   ]
  },
  {
   "cell_type": "code",
   "execution_count": 13,
   "id": "25318b73",
   "metadata": {},
   "outputs": [],
   "source": [
    "# looping through a file \n",
    "\n",
    "# for line in file_object:\n",
    "#    statement(s)"
   ]
  },
  {
   "cell_type": "code",
   "execution_count": 14,
   "id": "31657942",
   "metadata": {},
   "outputs": [],
   "source": [
    "# with statement to open and closes files \n",
    "\n",
    "# with open(file,mode) as file_object:\n",
    "#.  statement"
   ]
  },
  {
   "cell_type": "code",
   "execution_count": 17,
   "id": "271b517e",
   "metadata": {},
   "outputs": [],
   "source": [
    "# opening the test file and writing 10 inside the file\n",
    "# it will close on it own \n",
    "with open(\"test.txt\", 'w') as f:\n",
    "    x = 10\n",
    "    f.write(str(x))\n",
    "    \n",
    "    "
   ]
  },
  {
   "cell_type": "code",
   "execution_count": 4,
   "id": "3f4de49b",
   "metadata": {},
   "outputs": [
    {
     "ename": "TypeError",
     "evalue": "unsupported operand type(s) for |: 'str' and 'str'",
     "output_type": "error",
     "traceback": [
      "\u001b[0;31m---------------------------------------------------------------------------\u001b[0m",
      "\u001b[0;31mTypeError\u001b[0m                                 Traceback (most recent call last)",
      "Cell \u001b[0;32mIn[4], line 3\u001b[0m\n\u001b[1;32m      1\u001b[0m \u001b[38;5;66;03m# for all numbers between 1 and 100, put evens in one file and odds in the other\u001b[39;00m\n\u001b[0;32m----> 3\u001b[0m \u001b[38;5;28;01mwith\u001b[39;00m \u001b[38;5;28mopen\u001b[39m(\u001b[38;5;124m\"\u001b[39m\u001b[38;5;124modd.txt\u001b[39m\u001b[38;5;124m\"\u001b[39m,\u001b[38;5;124m'\u001b[39m\u001b[38;5;124mw\u001b[39m\u001b[38;5;124m'\u001b[39m\u001b[38;5;241m|\u001b[39m \u001b[38;5;124m'\u001b[39m\u001b[38;5;124ma\u001b[39m\u001b[38;5;124m'\u001b[39m) \u001b[38;5;28;01mas\u001b[39;00m f:\n\u001b[1;32m      4\u001b[0m    \u001b[38;5;28;01mfor\u001b[39;00m i \u001b[38;5;129;01min\u001b[39;00m \u001b[38;5;28mrange\u001b[39m(\u001b[38;5;241m1\u001b[39m,\u001b[38;5;241m101\u001b[39m):\n\u001b[1;32m      5\u001b[0m        \u001b[38;5;28;01mif\u001b[39;00m i \u001b[38;5;241m%\u001b[39m \u001b[38;5;241m2\u001b[39m \u001b[38;5;241m==\u001b[39m \u001b[38;5;241m0\u001b[39m:\n",
      "\u001b[0;31mTypeError\u001b[0m: unsupported operand type(s) for |: 'str' and 'str'"
     ]
    }
   ],
   "source": [
    " # for all numbers between 1 and 100, put evens in one file and odds in the other\n",
    "    \n",
    "with open(\"odd.txt\",'w'| 'a') as f:\n",
    "    for i in range(1,101):\n",
    "        if i % 2 == 0:\n",
    "            f.write(str(i))"
   ]
  },
  {
   "cell_type": "code",
   "execution_count": 5,
   "id": "8550b789",
   "metadata": {},
   "outputs": [
    {
     "ename": "NameError",
     "evalue": "name 'csv' is not defined",
     "output_type": "error",
     "traceback": [
      "\u001b[0;31m---------------------------------------------------------------------------\u001b[0m",
      "\u001b[0;31mNameError\u001b[0m                                 Traceback (most recent call last)",
      "Cell \u001b[0;32mIn[5], line 8\u001b[0m\n\u001b[1;32m      1\u001b[0m \u001b[38;5;66;03m# CSV Files\u001b[39;00m\n\u001b[1;32m      2\u001b[0m \n\u001b[1;32m      3\u001b[0m \u001b[38;5;66;03m# import csv - needs to be used to use methods \u001b[39;00m\n\u001b[1;32m      4\u001b[0m \n\u001b[1;32m      5\u001b[0m \u001b[38;5;66;03m# write the list to a CSV file \u001b[39;00m\n\u001b[1;32m      7\u001b[0m \u001b[38;5;28;01mwith\u001b[39;00m \u001b[38;5;28mopen\u001b[39m(\u001b[38;5;124m\"\u001b[39m\u001b[38;5;124mexample.csv\u001b[39m\u001b[38;5;124m\"\u001b[39m, \u001b[38;5;124m\"\u001b[39m\u001b[38;5;124mw\u001b[39m\u001b[38;5;124m\"\u001b[39m, newline\u001b[38;5;241m=\u001b[39m\u001b[38;5;124m\"\u001b[39m\u001b[38;5;124m\"\u001b[39m) \u001b[38;5;28;01mas\u001b[39;00m file:\n\u001b[0;32m----> 8\u001b[0m     writer \u001b[38;5;241m=\u001b[39m csv\u001b[38;5;241m.\u001b[39mwriter\n",
      "\u001b[0;31mNameError\u001b[0m: name 'csv' is not defined"
     ]
    }
   ],
   "source": [
    "# CSV Files\n",
    "\n",
    "# import csv - needs to be used to use methods \n",
    "\n",
    "# write the list to a CSV file \n",
    "\n",
    "with open(\"example.csv\", \"w\", newline=\"\") as file:\n",
    "    writer = csv.writer"
   ]
  },
  {
   "cell_type": "code",
   "execution_count": null,
   "id": "2bb5ea24",
   "metadata": {},
   "outputs": [],
   "source": [
    "# Ask the user to input courses and grades \n",
    "# keep asking until input is != 0\n",
    "# once it reaches that, import to csv file \n",
    "# then use show csv file as a list by reading from a text file\n",
    "import csv \n",
    "\n",
    "\n",
    "def main():\n",
    "    inputs = 1\n",
    "    while True:\n",
    "        courselist = []\n",
    "        courses = input(\"Enter a course: \")\n",
    "        if courses == '0':\n",
    "            break\n",
    "        else:\n",
    "            courelist.append(courses)\n",
    "            grades = input(\"Enter a letter grade for courses: \")\n",
    "        if grades == '0':\n",
    "            break\n",
    "        else:\n",
    "            courses.append(courses)\n",
    "            courselist.append(courses)\n",
    "        \n",
    "        # initalize a 2D array \n",
    "        rows = courses \n",
    "        cols = grades\n",
    "        \n",
    "        # \n",
    "        "
   ]
  }
 ],
 "metadata": {
  "kernelspec": {
   "display_name": "Python 3 (ipykernel)",
   "language": "python",
   "name": "python3"
  },
  "language_info": {
   "codemirror_mode": {
    "name": "ipython",
    "version": 3
   },
   "file_extension": ".py",
   "mimetype": "text/x-python",
   "name": "python",
   "nbconvert_exporter": "python",
   "pygments_lexer": "ipython3",
   "version": "3.11.5"
  }
 },
 "nbformat": 4,
 "nbformat_minor": 5
}
