{
 "cells": [
  {
   "cell_type": "code",
   "execution_count": 1,
   "id": "ffeafb46",
   "metadata": {},
   "outputs": [
    {
     "data": {
      "text/plain": [
       "' The modes you can use is:\\n        \"r\": read\\n        \"w\": write\\n        \"a\": append\\n        \"b\": binary\\n'"
      ]
     },
     "execution_count": 1,
     "metadata": {},
     "output_type": "execute_result"
    }
   ],
   "source": [
    "# File Manipulate\n",
    "\n",
    "''' in order to use a file, you need to use the built in \"open\" function\n",
    "'''\n",
    "\n",
    "''' The way to denote it:open(file, mode)'''\n",
    "\n",
    "''' The modes you can use is:\n",
    "        \"r\": read\n",
    "        \"w\": write\n",
    "        \"a\": append\n",
    "        \"b\": binary\n",
    "'''\n",
    "\n",
    "# After using the file, you need to close the file\n",
    "# The way to denote closing a file: close()\n",
    "\n",
    "# Read method: make a file object to read the contents of file in memory\n",
    "    # only works if file is open\n",
    "    # the data will be return as a string\n",
    "    \n",
    "# Read position: positions the next item to be read in the file"
   ]
  },
  {
   "cell_type": "code",
   "execution_count": 3,
   "id": "95b6abb7",
   "metadata": {},
   "outputs": [
    {
     "name": "stdout",
     "output_type": "stream",
     "text": [
      "A\n",
      "B\n",
      "C\n",
      "D\n",
      "E\n",
      "F\n",
      "G\n"
     ]
    }
   ],
   "source": [
    "# reading the data in a file \n",
    "file = open(\"test.txt\", 'r')\n",
    "print(file.read())\n",
    "file.close()"
   ]
  },
  {
   "cell_type": "code",
   "execution_count": 12,
   "id": "2b377fa1",
   "metadata": {},
   "outputs": [
    {
     "name": "stdout",
     "output_type": "stream",
     "text": [
      "\n",
      "C\n",
      "D\n",
      "E\n",
      "F\n",
      "G\n"
     ]
    }
   ],
   "source": [
    "# the seek method is going to read from the index within the arg\n",
    "file=open(\"test.txt\", 'r')\n",
    "file.seek(3)\n",
    "print(file.read())\n",
    "file.close()"
   ]
  },
  {
   "cell_type": "code",
   "execution_count": 16,
   "id": "a3c996dd",
   "metadata": {},
   "outputs": [
    {
     "name": "stdout",
     "output_type": "stream",
     "text": [
      "1\n",
      "\n",
      "2\n",
      "\n"
     ]
    }
   ],
   "source": [
    "# Reading Data from a file\n",
    "\n",
    "# readline method: reads a line from the file\n",
    "    # returns string, including spaces (\\n)\n",
    "    \n",
    "f = open(\"numbers.txt\")\n",
    "print(f.readline()) # this is reading the first line of the file \n",
    "print(f.readline()) # this reads the second line "
   ]
  },
  {
   "cell_type": "code",
   "execution_count": 21,
   "id": "2881f7e1",
   "metadata": {},
   "outputs": [
    {
     "ename": "TypeError",
     "evalue": "unsupported operand type(s) for |: 'str' and 'str'",
     "output_type": "error",
     "traceback": [
      "\u001b[0;31m---------------------------------------------------------------------------\u001b[0m",
      "\u001b[0;31mTypeError\u001b[0m                                 Traceback (most recent call last)",
      "Cell \u001b[0;32mIn[21], line 9\u001b[0m\n\u001b[1;32m      1\u001b[0m \u001b[38;5;66;03m# Writing data to a file \u001b[39;00m\n\u001b[1;32m      2\u001b[0m \n\u001b[1;32m      3\u001b[0m \u001b[38;5;66;03m# write metod : used to write data to file\u001b[39;00m\n\u001b[0;32m   (...)\u001b[0m\n\u001b[1;32m      6\u001b[0m \u001b[38;5;66;03m# File should be closed using file object closed method\u001b[39;00m\n\u001b[1;32m      7\u001b[0m     \u001b[38;5;66;03m# Format: file_variable.close()\u001b[39;00m\n\u001b[0;32m----> 9\u001b[0m outfile \u001b[38;5;241m=\u001b[39m \u001b[38;5;28mopen\u001b[39m(\u001b[38;5;124m\"\u001b[39m\u001b[38;5;124mtest.txt\u001b[39m\u001b[38;5;124m\"\u001b[39m, \u001b[38;5;124m'\u001b[39m\u001b[38;5;124mw\u001b[39m\u001b[38;5;124m'\u001b[39m \u001b[38;5;241m|\u001b[39m \u001b[38;5;124m'\u001b[39m\u001b[38;5;124mr\u001b[39m\u001b[38;5;124m'\u001b[39m)\n\u001b[1;32m     10\u001b[0m outfile\u001b[38;5;241m.\u001b[39mwrite(\u001b[38;5;124m\"\u001b[39m\u001b[38;5;124mtest\u001b[39m\u001b[38;5;124m\"\u001b[39m)\n\u001b[1;32m     11\u001b[0m outfile\u001b[38;5;241m.\u001b[39mread()\n",
      "\u001b[0;31mTypeError\u001b[0m: unsupported operand type(s) for |: 'str' and 'str'"
     ]
    }
   ],
   "source": [
    "# Writing data to a file \n",
    "\n",
    "# write metod : used to write data to file\n",
    "    # Format: file_variable.write(string)\n",
    "\n",
    "# File should be closed using file object closed method\n",
    "    # Format: file_variable.close()\n",
    "\n",
    "outfile = open(\"test.txt\", 'w' | 'r')\n",
    "outfile.write(\"test\")\n",
    "outfile.read()\n",
    "outfile.close()"
   ]
  },
  {
   "cell_type": "code",
   "execution_count": null,
   "id": "f94f2a52",
   "metadata": {},
   "outputs": [],
   "source": []
  }
 ],
 "metadata": {
  "kernelspec": {
   "display_name": "Python 3 (ipykernel)",
   "language": "python",
   "name": "python3"
  },
  "language_info": {
   "codemirror_mode": {
    "name": "ipython",
    "version": 3
   },
   "file_extension": ".py",
   "mimetype": "text/x-python",
   "name": "python",
   "nbconvert_exporter": "python",
   "pygments_lexer": "ipython3",
   "version": "3.11.5"
  }
 },
 "nbformat": 4,
 "nbformat_minor": 5
}
