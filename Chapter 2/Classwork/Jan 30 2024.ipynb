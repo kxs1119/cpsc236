{
 "cells": [
  {
   "cell_type": "code",
   "execution_count": null,
   "id": "7f21d05b",
   "metadata": {},
   "outputs": [],
   "source": [
    "counter = 0 \n",
    "while counter < 5:\n",
    "    print(\"This class is too early\")\n",
    "    counter+=1\n"
   ]
  },
  {
   "cell_type": "code",
   "execution_count": null,
   "id": "6cfd40da",
   "metadata": {},
   "outputs": [],
   "source": [
    "choice = \"y\"\n",
    "while choice.lower() == \"y\":\n",
    "    print(\"Are we still here?\")\n",
    "    choice=input(\"Yes I am (y/n)\")\n",
    "print(\"Goodbye\")"
   ]
  },
  {
   "cell_type": "code",
   "execution_count": null,
   "id": "f60bebf3",
   "metadata": {},
   "outputs": [],
   "source": [
    "# In class exercise \n",
    "\n",
    "temp =int(input(\"Enter a temperature for the activites: \"))\n",
    "if temp >= 80 and temp <=100:\n",
    "    print(\"go swim\")\n",
    "elif temp >= 60 and temp < 80: \n",
    "    print(\"go golf\")\n",
    "elif temp < 60:\n",
    "    print(\"go eat\")\n",
    "else: \n",
    "    print(\"take a nap\")"
   ]
  },
  {
   "cell_type": "code",
   "execution_count": null,
   "id": "091e21ef",
   "metadata": {},
   "outputs": [],
   "source": [
    "print(\"The Miles Per Gallon program\")\n",
    "print()\n"
   ]
  },
  {
   "cell_type": "code",
   "execution_count": null,
   "id": "a7c77dac",
   "metadata": {},
   "outputs": [],
   "source": [
    "choice = 1\n",
    "while choice != 0:\n",
    "    # Get data from the user\n",
    "    firstNumber = int(input(\"enter a number:\\n\"))\n",
    "    secondNumber = int(input(\"enter a number:\\n\"))\n",
    "    \n",
    "    # Calculate the sum \n",
    "    sum = firstNumber + secondNumber\n",
    "    \n",
    "    # Print the sum \n",
    "    print(\"The sum is: \",str(sum))\n",
    "    \n",
    "    # Ask to keep going \n",
    "    choice = int(input(\"Would you like to go again(No = 0): \"))\n",
    "    "
   ]
  },
  {
   "cell_type": "code",
   "execution_count": 2,
   "id": "1f45e9e2",
   "metadata": {},
   "outputs": [
    {
     "name": "stdout",
     "output_type": "stream",
     "text": [
      "Enter a number: 5\n"
     ]
    },
    {
     "ename": "KeyboardInterrupt",
     "evalue": "",
     "output_type": "error",
     "traceback": [
      "\u001b[0;31m---------------------------------------------------------------------------\u001b[0m",
      "\u001b[0;31mKeyboardInterrupt\u001b[0m                         Traceback (most recent call last)",
      "Cell \u001b[0;32mIn[2], line 4\u001b[0m\n\u001b[1;32m      2\u001b[0m userInput \u001b[38;5;241m=\u001b[39m \u001b[38;5;28mint\u001b[39m(\u001b[38;5;28minput\u001b[39m(\u001b[38;5;124m\"\u001b[39m\u001b[38;5;124mEnter a number: \u001b[39m\u001b[38;5;124m\"\u001b[39m))\n\u001b[1;32m      3\u001b[0m total2 \u001b[38;5;241m=\u001b[39m \u001b[38;5;241m1\u001b[39m\n\u001b[0;32m----> 4\u001b[0m \u001b[38;5;28;01mwhile\u001b[39;00m userInput\u001b[38;5;241m>\u001b[39m\u001b[38;5;241m0\u001b[39m:\n\u001b[1;32m      5\u001b[0m     total2 \u001b[38;5;241m=\u001b[39m total2\u001b[38;5;241m*\u001b[39muserInput\n\u001b[1;32m      6\u001b[0m     userInputs\u001b[38;5;241m=\u001b[39muserInput\u001b[38;5;241m-\u001b[39m\u001b[38;5;241m1\u001b[39m \u001b[38;5;66;03m#decrement\u001b[39;00m\n",
      "\u001b[0;31mKeyboardInterrupt\u001b[0m: "
     ]
    }
   ],
   "source": [
    "# enter the data\n",
    "userInput = int(input(\"Enter a number: \"))\n",
    "total2 = 1\n",
    "while userInput>0:\n",
    "    total2 = total2*user\n",
    "    userInputs=userInput-1 #decrement\n",
    "print(\"Total: \", str(userInput))"
   ]
  },
  {
   "cell_type": "code",
   "execution_count": 3,
   "id": "bc4834df",
   "metadata": {},
   "outputs": [
    {
     "name": "stdout",
     "output_type": "stream",
     "text": [
      "range(0, 5)\n"
     ]
    }
   ],
   "source": [
    "# using the range function \n",
    "print(range(5))"
   ]
  },
  {
   "cell_type": "code",
   "execution_count": 5,
   "id": "dfd3f363",
   "metadata": {},
   "outputs": [
    {
     "name": "stdout",
     "output_type": "stream",
     "text": [
      "range(1, 6, 2)\n"
     ]
    }
   ],
   "source": [
    "print(range(1,6,2))"
   ]
  },
  {
   "cell_type": "code",
   "execution_count": null,
   "id": "d51172e2",
   "metadata": {},
   "outputs": [],
   "source": [
    "# Prompt the user to enter data \n",
    "firstInput = int(input(\"Enter a number: \"))\n",
    "while firstInput < 0:\n",
    "    print(\"Please enter a positive number\")\n",
    "    secondInput = int(input(\"Enter a second number\"))\n",
    "    while secondInput < 0:\n",
    "        print(\"Please enter a positive number\")\n",
    "\n",
    "        \n",
    "\n",
    "    \n"
   ]
  }
 ],
 "metadata": {
  "kernelspec": {
   "display_name": "Python 3 (ipykernel)",
   "language": "python",
   "name": "python3"
  },
  "language_info": {
   "codemirror_mode": {
    "name": "ipython",
    "version": 3
   },
   "file_extension": ".py",
   "mimetype": "text/x-python",
   "name": "python",
   "nbconvert_exporter": "python",
   "pygments_lexer": "ipython3",
   "version": "3.11.5"
  }
 },
 "nbformat": 4,
 "nbformat_minor": 5
}
