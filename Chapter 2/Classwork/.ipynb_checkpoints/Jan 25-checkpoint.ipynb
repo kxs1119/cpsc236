{
 "cells": [
  {
   "cell_type": "code",
   "execution_count": 1,
   "id": "96cf2462",
   "metadata": {},
   "outputs": [],
   "source": [
    "x=10"
   ]
  },
  {
   "cell_type": "code",
   "execution_count": 2,
   "id": "19d767c2",
   "metadata": {},
   "outputs": [],
   "source": [
    "if x<0 : \n",
    "    print(\"negative\")\n",
    "    print(\"end\")"
   ]
  },
  {
   "cell_type": "code",
   "execution_count": 3,
   "id": "f6341bc5",
   "metadata": {},
   "outputs": [
    {
     "ename": "SyntaxError",
     "evalue": "incomplete input (1226530170.py, line 3)",
     "output_type": "error",
     "traceback": [
      "\u001b[0;36m  Cell \u001b[0;32mIn[3], line 3\u001b[0;36m\u001b[0m\n\u001b[0;31m    \u001b[0m\n\u001b[0m    ^\u001b[0m\n\u001b[0;31mSyntaxError\u001b[0m\u001b[0;31m:\u001b[0m incomplete input\n"
     ]
    }
   ],
   "source": [
    "x = int(input(\"Enter an input\"))\n",
    "if x<0 :\n",
    "    "
   ]
  },
  {
   "cell_type": "code",
   "execution_count": 12,
   "id": "780a8683",
   "metadata": {},
   "outputs": [
    {
     "name": "stdout",
     "output_type": "stream",
     "text": [
      "Enter in a number: 0\n",
      "The number is zero!\n"
     ]
    }
   ],
   "source": [
    "# Ask the user to enter a number\n",
    "userInput = int(input(\"Enter in a number: \"))\n",
    "\n",
    "# Create a conditional statement if it is positive, negative, or zero\n",
    "if userInput > 0: \n",
    "    print(\"The number is positive\")\n",
    "else:\n",
    "    if userInput < 0:\n",
    "        print(\"The number is negative\")\n",
    "    else:\n",
    "        print(\"The number is zero!\")"
   ]
  },
  {
   "cell_type": "code",
   "execution_count": null,
   "id": "1091f484",
   "metadata": {},
   "outputs": [],
   "source": []
  },
  {
   "cell_type": "code",
   "execution_count": null,
   "id": "d15f13d1",
   "metadata": {},
   "outputs": [],
   "source": []
  }
 ],
 "metadata": {
  "kernelspec": {
   "display_name": "Python 3 (ipykernel)",
   "language": "python",
   "name": "python3"
  },
  "language_info": {
   "codemirror_mode": {
    "name": "ipython",
    "version": 3
   },
   "file_extension": ".py",
   "mimetype": "text/x-python",
   "name": "python",
   "nbconvert_exporter": "python",
   "pygments_lexer": "ipython3",
   "version": "3.11.5"
  }
 },
 "nbformat": 4,
 "nbformat_minor": 5
}
