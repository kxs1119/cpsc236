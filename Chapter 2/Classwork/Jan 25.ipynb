{
 "cells": [
  {
   "cell_type": "code",
   "execution_count": 1,
   "id": "af5aa7b8",
   "metadata": {},
   "outputs": [],
   "source": [
    "x=10"
   ]
  },
  {
   "cell_type": "code",
   "execution_count": 2,
   "id": "7962e6a3",
   "metadata": {},
   "outputs": [],
   "source": [
    "if x<0 : \n",
    "    print(\"negative\")\n",
    "    print(\"end\")"
   ]
  },
  {
   "cell_type": "code",
   "execution_count": 3,
   "id": "f0b8ef33",
   "metadata": {},
   "outputs": [
    {
     "ename": "SyntaxError",
     "evalue": "incomplete input (1226530170.py, line 3)",
     "output_type": "error",
     "traceback": [
      "\u001b[0;36m  Cell \u001b[0;32mIn[3], line 3\u001b[0;36m\u001b[0m\n\u001b[0;31m    \u001b[0m\n\u001b[0m    ^\u001b[0m\n\u001b[0;31mSyntaxError\u001b[0m\u001b[0;31m:\u001b[0m incomplete input\n"
     ]
    }
   ],
   "source": [
    "x = int(input(\"Enter an input\"))\n",
    "if x<0 :\n",
    "    "
   ]
  },
  {
   "cell_type": "code",
   "execution_count": 12,
   "id": "55d37d8a",
   "metadata": {},
   "outputs": [
    {
     "name": "stdout",
     "output_type": "stream",
     "text": [
      "Enter in a number: 0\n",
      "The number is zero!\n"
     ]
    }
   ],
   "source": [
    "# Ask the user to enter a number\n",
    "userInput = int(input(\"Enter in a number: \"))\n",
    "\n",
    "# Create a conditional statement if it is positive, negative, or zero\n",
    "if userInput > 0: \n",
    "    print(\"The number is positive\")\n",
    "else:\n",
    "    if userInput < 0:\n",
    "        print(\"The number is negative\")\n",
    "    else:\n",
    "        print(\"The number is zero!\")"
   ]
  },
  {
   "cell_type": "code",
   "execution_count": 13,
   "id": "3f9998ea",
   "metadata": {},
   "outputs": [],
   "source": [
    "# This is the second example "
   ]
  },
  {
   "cell_type": "code",
   "execution_count": 14,
   "id": "5e6e5986",
   "metadata": {},
   "outputs": [
    {
     "name": "stdout",
     "output_type": "stream",
     "text": [
      "What is your name? Kenneth\n",
      "\n",
      "Select your gender (M/F)M\n",
      "Hello Mr. Kenneth\n"
     ]
    }
   ],
   "source": [
    "# Getting the customer name \n",
    "customerName = input(\"What is your name? \")\n",
    "print()\n",
    "\n",
    "# Get the gender \n",
    "gender = input(\"Select your gender (M/F)\")\n",
    "\n",
    "#Display based on their name\n",
    "if gender == \"M\" or gender == \"m\":\n",
    "    print (\"Hello Mr.\", customerName)\n",
    "else:\n",
    "    if gender == \"F\" or gender == \"f\":\n",
    "        print(\"Hello Ms.\",customerName)"
   ]
  },
  {
   "cell_type": "code",
   "execution_count": 22,
   "id": "4ab8a75e",
   "metadata": {},
   "outputs": [
    {
     "name": "stdout",
     "output_type": "stream",
     "text": [
      "Enter a number: 1\n",
      "Enter a number: 1\n",
      "Enter a number: 3\n",
      "3is the largest Number\n"
     ]
    }
   ],
   "source": [
    "firstNumber = int(input(\"Enter a number: \"))\n",
    "secondNumber = int(input(\"Enter a number: \"))\n",
    "thirdNumber = int(input(\"Enter a number: \"))\n",
    "\n",
    "# see which number is larger\n",
    "if firstNumber > secondNumber:\n",
    "    if firstNumber > thirdNumber:\n",
    "        print(str(firstNumber),\"is the largest Number\")\n",
    "else:\n",
    "    if thirdNumber > secondNumber:\n",
    "        print(str(thirdNumber) + \"is the largest Number\")\n",
    "    else:\n",
    "        print(str(secondNumber) + \"is the largest Number\")"
   ]
  },
  {
   "cell_type": "code",
   "execution_count": null,
   "id": "9860fe6b",
   "metadata": {},
   "outputs": [],
   "source": [
    "firstNumber = int(input(\"Enter a number: \"))\n",
    "secondNumber = int(input(\"Enter a number: \"))\n",
    "thirdNumber = int(input(\"Enter a number: \"))\n",
    "\n",
    "if firstNumber >= secondNumber and firstNumber >= thirdNumber:\n",
    "    print(str(firstNumber))\n",
    "if secondNumber >= firstNumber and secondNumber >= thirdNumber:\n",
    "    print(str(secondNumber))\n",
    "if thirdNumber >= firstNumber"
   ]
  },
  {
   "cell_type": "code",
   "execution_count": null,
   "id": "a52b90cf",
   "metadata": {},
   "outputs": [],
   "source": []
  }
 ],
 "metadata": {
  "kernelspec": {
   "display_name": "Python 3 (ipykernel)",
   "language": "python",
   "name": "python3"
  },
  "language_info": {
   "codemirror_mode": {
    "name": "ipython",
    "version": 3
   },
   "file_extension": ".py",
   "mimetype": "text/x-python",
   "name": "python",
   "nbconvert_exporter": "python",
   "pygments_lexer": "ipython3",
   "version": "3.11.5"
  }
 },
 "nbformat": 4,
 "nbformat_minor": 5
}
