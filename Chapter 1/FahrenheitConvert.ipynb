{
 "cells": [
  {
   "cell_type": "code",
   "execution_count": 4,
   "id": "027db8a8-6d12-476e-91c6-66851745ef3c",
   "metadata": {
    "tags": []
   },
   "outputs": [
    {
     "name": "stdin",
     "output_type": "stream",
     "text": [
      "Enter the fahrenheit to convert:  11111\n"
     ]
    },
    {
     "name": "stdout",
     "output_type": "stream",
     "text": [
      "Here is the Celsius conversion: 6155.0\n"
     ]
    }
   ],
   "source": [
    "fahrenheit = int(input(\"Enter the fahrenheit to convert: \"))\n",
    "celsius = (5/9) * (fahrenheit - 32) \n",
    "print(\"Here is the Celsius conversion: \" + str(celsius))"
   ]
  },
  {
   "cell_type": "code",
   "execution_count": null,
   "id": "0bc70e5c-629a-4713-ba2c-45504eabc65c",
   "metadata": {},
   "outputs": [],
   "source": []
  }
 ],
 "metadata": {
  "kernelspec": {
   "display_name": "Python 3 (ipykernel)",
   "language": "python",
   "name": "python3"
  },
  "language_info": {
   "codemirror_mode": {
    "name": "ipython",
    "version": 3
   },
   "file_extension": ".py",
   "mimetype": "text/x-python",
   "name": "python",
   "nbconvert_exporter": "python",
   "pygments_lexer": "ipython3",
   "version": "3.11.5"
  }
 },
 "nbformat": 4,
 "nbformat_minor": 5
}
