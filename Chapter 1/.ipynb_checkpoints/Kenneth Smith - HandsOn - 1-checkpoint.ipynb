{
 "cells": [
  {
   "cell_type": "markdown",
   "metadata": {},
   "source": [
    "# Chapter 2 - How to write your first program"
   ]
  },
  {
   "cell_type": "markdown",
   "metadata": {},
   "source": [
    "## 2.1 Student Registration\n",
    "Create a program that allows a student to complete a registration form and displays a completion message that includes the user’s full name and a temporary password.\n",
    "\n",
    "### Console:\n",
    "```powershell\n",
    "Registration Form\n",
    "\n",
    "First Name: Eric\n",
    "Last Name: Idle\n",
    "Birth Year: 1934\n",
    "\n",
    "Welcome Eric Idle!\n",
    "Your registration is complete!\n",
    "Your temporary password is: Eric*1934\n",
    "```\n",
    "\n",
    "### Specifications:\n",
    "- The user’s full name consists of the user’s first name, a space, and the user’s last name.\n",
    "- The temporary password consists of the user’s first name, an asterisk (*), and the user’s birth year.\n",
    "- Assume the user will enter valid data.\n"
   ]
  },
  {
   "cell_type": "code",
   "execution_count": 11,
   "metadata": {},
   "outputs": [
    {
     "name": "stdout",
     "output_type": "stream",
     "text": [
      "Please enter your first name: kdk\n",
      "Please enter your last name: dkdk\n",
      "Please enter the your birth year: 12211\n",
      "\n",
      "Registration Form\n",
      "\n",
      "First Name: kdk\n",
      "Last Name: dkdk\n",
      "Birth Year: 12211\n",
      "\n",
      "Welcome kdk dkdk!\n",
      "You registration is complete!\n",
      "Your temporary password is: kdk*12211\n"
     ]
    }
   ],
   "source": [
    "#input users data\n",
    "firstName = input(\"Please enter your first name: \")\n",
    "lastName = input(\"Please enter your last name: \")\n",
    "birthYear = int(input(\"Please enter the your birth year: \"))\n",
    "print()\n",
    "print(\"Registration Form\")\n",
    "print()\n",
    "print(\"First Name: \" + firstName)\n",
    "print(\"Last Name: \" + lastName) \n",
    "print(\"Birth Year: \"+ str(birthYear))\n",
    "print()\n",
    "print(\"Welcome \" + firstName + \" \" +  lastName + \"!\")\n",
    "print(\"You registration is complete!\")\n",
    "print(\"Your temporary password is: \" + firstName + \"*\" + str(birthYear))"
   ]
  },
  {
   "cell_type": "markdown",
   "metadata": {},
   "source": [
    "## 2.2 - Pay Check Calculator\n",
    "Create a program that calculates a user’s weekly gross and take-home pay.\n",
    "\n",
    "### Console\n",
    "```powershell\n",
    "Pay Check Calculator\n",
    "\n",
    "Hours Worked: 35\n",
    "Hourly Pay Rate: 14.50\n",
    "\n",
    "Gross Pay: 507.5\n",
    "Tax Rate: 18%\n",
    "Tax Amount: 91.35\n",
    "Take Home Pay: 416.15\n",
    "```\n",
    "\n",
    "### Specifications:\n",
    "- The formula for calculating gross pay is:\n",
    "`gross pay = hours worked * hourly rate`\n",
    "- The formula for calculating tax amount is:\n",
    "`tax amount = gross pay * (tax rate / 100)`\n",
    "- The formula for calculating take home pay is:\n",
    "`take home pay = gross pay – tax amount`\n",
    "- The tax rate should be 18%, but the program should store the tax rate in a variable so that you can easily change the tax rate later, just by changing the value that’s stored in the variable.\n",
    "- The program should accept decimal entries like 35.5 and 14.25.\n",
    "- Assume the user will enter valid data.\n",
    "- The program should round the results to a maximum of two decimal places.\n"
   ]
  },
  {
   "cell_type": "code",
   "execution_count": 19,
   "metadata": {},
   "outputs": [
    {
     "name": "stdout",
     "output_type": "stream",
     "text": [
      "Enter the hours worked: 1\n",
      "Enter the pay rate: 1\n",
      "\n",
      "Pay Check Calculator\n",
      "\n",
      "Hours Worked: 1.0\n",
      "Hours Pay Rates: 1.0\n",
      "\n",
      "Gross Pay: 1.0\n",
      "Tax Rate: 18\n",
      "Tax Amount: 0.18\n",
      "Take Home Pay: 0.82\n"
     ]
    }
   ],
   "source": [
    "hoursWorked = float(input(\"Enter the hours worked: \"))\n",
    "payRate = float(input(\"Enter the pay rate: \"))\n",
    "print()\n",
    "# Doing calculations \n",
    "grossPay = hoursWorked * payRate\n",
    "taxRate = 18\n",
    "taxAmount = grossPay * (taxRate / 100)\n",
    "payCheck = grossPay - taxAmount\n",
    "\n",
    "# Display the content \n",
    "print(\"Pay Check Calculator\")\n",
    "print()\n",
    "print(\"Hours Worked: \" + str(round(hoursWorked,2)))\n",
    "print(\"Hours Pay Rates: \" + str(payRate))\n",
    "print()\n",
    "print(\"Gross Pay: \" + str(grossPay))\n",
    "print(\"Tax Rate: \" + str(round(taxRate,2)))\n",
    "print(\"Tax Amount: \" + str(round(taxAmount,2)))\n",
    "print(\"Take Home Pay: \" + str(round(payCheck,2)))"
   ]
  },
  {
   "cell_type": "code",
   "execution_count": null,
   "metadata": {},
   "outputs": [],
   "source": [
    "# 2.3 - Travel Time Calculator\n",
    "Create a program that calculates the estimated hours and minutes for a trip.\n",
    "\n",
    "### Console\n",
    "```powershell\n",
    "Travel Time Calculator\n",
    "\n",
    "Enter Miles: 200\n",
    "Enter Miles per Hour: 65\n",
    "\n",
    "Estimated Travel Time\n",
    "Hours: 3\n",
    "Minutes: 5\n",
    "```\n",
    "\n",
    "### Specifications\n",
    "- The program should only accept integer entries like 200 and 65.\n",
    "- Assume that the user will enter valid data.\n",
    "\n",
    "### Hint\n",
    "- Use integers with the integer division and modulus operators to get hours and minutes."
   ]
  },
  {
   "cell_type": "code",
   "execution_count": 4,
   "metadata": {
    "scrolled": true
   },
   "outputs": [
    {
     "name": "stdout",
     "output_type": "stream",
     "text": [
      "Enter the amount of miles: 1\n",
      "Enter the Miles per hour1\n",
      "Travel Time Calculator\n",
      "\n",
      "Enter Miles:  1\n",
      "Enter Miles per Hour:  1\n",
      "\n",
      "Estimated Travel Time\n",
      "Hours 1\n",
      "Minutes 0\n"
     ]
    }
   ],
   "source": [
    "miles = int(input(\"Enter the amount of miles: \"))\n",
    "speed = int(input(\"Enter the Miles per hour\"))\n",
    "print()\n",
    "\n",
    "# Calculate miles per hours \n",
    "totalHours = miles // speed\n",
    "remainingMinutes = (miles % speed) * 60 // speed\n",
    "\n",
    "# Display the information\n",
    "print(\"Travel Time Calculator\")\n",
    "print()\n",
    "print(\"Enter Miles: \",str(miles))\n",
    "print(\"Enter Miles per Hour: \",str(speed))\n",
    "print()\n",
    "print(\"Estimated Travel Time\")\n",
    "print(\"Hours\",str(totalHours))\n",
    "print(\"Minutes\",str(remainingMinutes))"
   ]
  },
  {
   "cell_type": "code",
   "execution_count": null,
   "metadata": {},
   "outputs": [],
   "source": []
  }
 ],
 "metadata": {
  "kernelspec": {
   "display_name": "Python 3 (ipykernel)",
   "language": "python",
   "name": "python3"
  },
  "language_info": {
   "codemirror_mode": {
    "name": "ipython",
    "version": 3
   },
   "file_extension": ".py",
   "mimetype": "text/x-python",
   "name": "python",
   "nbconvert_exporter": "python",
   "pygments_lexer": "ipython3",
   "version": "3.11.5"
  }
 },
 "nbformat": 4,
 "nbformat_minor": 2
}
