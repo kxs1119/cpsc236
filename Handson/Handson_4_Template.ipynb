{
 "cells": [
  {
   "cell_type": "markdown",
   "metadata": {},
   "source": [
    "# List and Tuples\n",
    "\n",
    "To submit this assignment in D2l, post the link to your notebook file on your GitHub account."
   ]
  },
  {
   "cell_type": "markdown",
   "metadata": {},
   "source": [
    "## 6.1 Prime Number Checker\n",
    "Create a program that checks whether a number is a prime number and displays its factors if it is not a prime number.\n",
    "\n",
    "### Console:\n",
    "```powershell\n",
    "Prime Number Checker\n",
    "\n",
    "Please enter an integer between 1 and 5000: 5\n",
    "5 is a prime number.\n",
    "\n",
    "Try again? (y/n): y\n",
    "\n",
    "Please enter an integer between 1 and 5000: 6\n",
    "6 is NOT a prime number.\n",
    "It has 4 factors: 1 2 3 6\n",
    "\n",
    "Try again? (y/n): y\n",
    "\n",
    "Please enter an integer between 1 and 5000: 200\n",
    "200 is NOT a prime number.\n",
    "It has 12 factors: 1 2 4 5 8 10 20 25 40 50 100 200\n",
    "\n",
    "Try again? (y/n): n\n",
    "\n",
    "Bye!\n",
    "```\n",
    "\n",
    "### Specifications:\n",
    "- A prime number is divisible by two factors (1 and itself). For example, 7 is a prime number because it is only divisible by 1 and 7.\n",
    "- If the user enters an integer that's not between 1 and 5000, the program should display an error message.\n",
    "- If the number is a prime number, the program should display a message.\n",
    "If the number is not a prime number, the program should display a message. Then, it should display the number of factors for the number and a list of those factors.\n",
    "- Store the factors for each number in a list.\n",
    "- Use functions to organize the code for this program.\n"
   ]
  },
  {
   "cell_type": "code",
   "execution_count": 1,
   "metadata": {},
   "outputs": [],
   "source": [
    "def factorFinder(number):\n",
    "    factors = [] # Getting factors from number \n",
    "    for i in range(1,number + 1):\n",
    "        if number % i == 0:\n",
    "            factors.append(i) # appemding the number in the list \n",
    "    \n",
    "    return factors\n",
    "                  \n",
    "def main():\n",
    "    stopLoop = False \n",
    "    while stopLoop is False:\n",
    "        print(\"Prime Number Checker\")\n",
    "        print()\n",
    "        inp = int(input(\"Please enter an integer between 1 and 5000: \"))\n",
    "        \n",
    "        if inp <1 or inp >5000:\n",
    "            print(\"Please enter a valid input\")\n",
    "            inp = int(input(\"Please enter an integer between 1 and 5000: \"))\n",
    "        else:\n",
    "            # Print out results \n",
    "            if len(factorFinder(inp)) == 2:\n",
    "                print(str(inp) + \" is a Prime Number. \")\n",
    "            else:\n",
    "                print(str(inp) + \" is NOT a Prime Number.\")\n",
    "                print(factorFinder(inp))\n",
    "                print()\n",
    "        \n",
    "        # Ask users if they would like to continue\n",
    "            continueInp = input(\" Try again(y/n): \")\n",
    "           \n",
    "            if continueInp == 'n':\n",
    "                print()\n",
    "                print(\"Bye\")\n",
    "                break\n",
    "\n",
    "if __name__ == \"__main__\":\n",
    "    main()"
   ]
  },
  {
   "cell_type": "markdown",
   "metadata": {},
   "source": [
    "## 6.2 - Contact Manager\n",
    "Create a program that a user can use to manage the primary email address and phone number for a contact.\n",
    "\n",
    "### Console\n",
    "```powershell\n",
    "Contact Manager\n",
    "\n",
    "COMMAND MENU\n",
    "list - Display all contacts\n",
    "view - View a contact\n",
    "add - Add a contact\n",
    "del - Delete a contact\n",
    "exit - Exit program\n",
    "\n",
    "Command: list\n",
    "1. Guido van Rossum\n",
    "2. Eric Idle\n",
    "\n",
    "Command: view\n",
    "Number: 2\n",
    "Name: Eric Idle\n",
    "Email: eric@ericidle.com\n",
    "Phone: +44 20 7946 0958\n",
    "\n",
    "Command: add\n",
    "Name: Mike Murach\n",
    "Email: mike@murach.com\n",
    "Phone: 559-123-4567\n",
    "Mike Murach was added.\n",
    "\n",
    "Command: del\n",
    "Number: 1\n",
    "Guido van Rossum was deleted.\n",
    "\n",
    "Command: list\n",
    "1. Eric Idle\n",
    "2. Mike Murach\n",
    "\n",
    "Command: exit\n",
    "Bye!\n",
    "```\n",
    "\n",
    "### Specifications:\n",
    "- Use a list of lists to store the data for the contacts. Provide starting data for two or more contacts.\n",
    "- For the `view` and `del` commands, display an error message if the user enters and invalid contact number.\n",
    "- When you exit the program, all changes that you made to the contact list are lost.\n",
    "\n",
    "\n"
   ]
  },
  {
   "cell_type": "code",
   "execution_count": null,
   "metadata": {
    "tags": []
   },
   "outputs": [
    {
     "name": "stdout",
     "output_type": "stream",
     "text": [
      "list - Display all contacts\n",
      "view - View a contact\n",
      "add - Add a Contact\n",
      "del - Delete a contact\n",
      "exit- Exit the program\n",
      "\n"
     ]
    },
    {
     "name": "stdin",
     "output_type": "stream",
     "text": [
      "Command:  list\n"
     ]
    },
    {
     "name": "stdout",
     "output_type": "stream",
     "text": [
      "1. Cookie Monster\n",
      "\n",
      "2. Blackbear\n",
      "\n",
      "\n",
      "list - Display all contacts\n",
      "view - View a contact\n",
      "add - Add a Contact\n",
      "del - Delete a contact\n",
      "exit- Exit the program\n",
      "\n"
     ]
    },
    {
     "name": "stdin",
     "output_type": "stream",
     "text": [
      "Command:  add\n",
      "Name:  kennyt\n",
      "Email:  a\n",
      "Phone:  a\n"
     ]
    },
    {
     "name": "stdout",
     "output_type": "stream",
     "text": [
      "kennyt was added.\n",
      "\n",
      "\n",
      "list - Display all contacts\n",
      "view - View a contact\n",
      "add - Add a Contact\n",
      "del - Delete a contact\n",
      "exit- Exit the program\n",
      "\n"
     ]
    },
    {
     "name": "stdin",
     "output_type": "stream",
     "text": [
      "Command:  list\n"
     ]
    },
    {
     "name": "stdout",
     "output_type": "stream",
     "text": [
      "1. Cookie Monster\n",
      "\n",
      "2. Blackbear\n",
      "\n",
      "3. kennyt\n",
      "\n",
      "\n",
      "list - Display all contacts\n",
      "view - View a contact\n",
      "add - Add a Contact\n",
      "del - Delete a contact\n",
      "exit- Exit the program\n",
      "\n"
     ]
    },
    {
     "name": "stdin",
     "output_type": "stream",
     "text": [
      "Command:  del\n",
      "Number:  1\n"
     ]
    },
    {
     "name": "stdout",
     "output_type": "stream",
     "text": [
      "Cookie Monster was deleted. \n",
      "\n",
      "list - Display all contacts\n",
      "view - View a contact\n",
      "add - Add a Contact\n",
      "del - Delete a contact\n",
      "exit- Exit the program\n",
      "\n"
     ]
    },
    {
     "name": "stdin",
     "output_type": "stream",
     "text": [
      "Command:  list\n"
     ]
    },
    {
     "name": "stdout",
     "output_type": "stream",
     "text": [
      "1. Blackbear\n",
      "\n",
      "2. kennyt\n",
      "\n",
      "\n",
      "list - Display all contacts\n",
      "view - View a contact\n",
      "add - Add a Contact\n",
      "del - Delete a contact\n",
      "exit- Exit the program\n",
      "\n"
     ]
    }
   ],
   "source": [
    "def viewContact(contacts):\n",
    "    num = int(input(\"Number: \"))\n",
    "    if 1 <= num <= len(contacts):\n",
    "        personContact = contacts[num - 1]\n",
    "        \n",
    "        print(\"Name: \" + personContact[0])\n",
    "        print(\"Email: \" + personContact[1])\n",
    "        print(\"Phone: \" + personContact[2])\n",
    "        print()\n",
    "def listContact(contacts):\n",
    "    for i in range(0,len(contacts)):\n",
    "        print(f\"{i+1}. {contacts[i][0]}\")\n",
    "        print()\n",
    "def addContact(contacts):\n",
    "    name = input(\"Name: \")\n",
    "    email = input(\"Email: \")\n",
    "    phone = input(\"Phone: \")\n",
    "    contacts.append([name,email,phone])\n",
    "    print(f\"{name} was added.\")\n",
    "    print()\n",
    "    \n",
    "    return contacts\n",
    "def deleteContact(contacts):\n",
    "    num = int(input(\"Number: \"))\n",
    "    if 1 <= num <= len(contacts):\n",
    "        delcontact = contacts.pop(num -1)\n",
    "        print(f\"{delcontact[0]} was deleted. \" )\n",
    "    \n",
    "    return contacts\n",
    "def main():\n",
    "    \n",
    "     # Pre Made List for contacts \n",
    "        \n",
    "    contacts = [\n",
    "        [\"Cookie Monster\", \"cmonster@street.com\", \"912-342-7584\"],\n",
    "        [\"Blackbear\", \"bbear@gmail.net\", \"215-421-0002\"]\n",
    "        ]\n",
    "        \n",
    "    while True:\n",
    "        # Display the menu for end user\n",
    "        print(\"list - Display all contacts\")\n",
    "        print(\"view - View a contact\")\n",
    "        print(\"add - Add a Contact\")\n",
    "        print(\"del - Delete a contact\")\n",
    "        print(\"exit- Exit the program\")\n",
    "        print()\n",
    "        \n",
    "        command = input(\"Command: \")\n",
    "       \n",
    "        # Conditions based on choice\n",
    "                    \n",
    "        if command.lower() == \"list\":\n",
    "            listContact(contacts)\n",
    "            print()\n",
    "        elif command.lower() == \"view\":\n",
    "            viewContact(contacts)\n",
    "        elif command.lower() == \"add\":\n",
    "            contacts = addContact(contacts)\n",
    "            print()\n",
    "        elif command.lower() == \"del\":\n",
    "            contacts = deleteContact(contacts)\n",
    "            print()\n",
    "        elif command.lower() == \"exit\":\n",
    "            print(\"Bye\")\n",
    "            break\n",
    "        else:\n",
    "            print(\"Invalid Entry!\")\n",
    "            print()\n",
    "\n",
    "if __name__ == \"__main__\":\n",
    "    main()"
   ]
  },
  {
   "cell_type": "code",
   "execution_count": null,
   "metadata": {},
   "outputs": [],
   "source": []
  }
 ],
 "metadata": {
  "kernelspec": {
   "display_name": "Python 3 (ipykernel)",
   "language": "python",
   "name": "python3"
  },
  "language_info": {
   "codemirror_mode": {
    "name": "ipython",
    "version": 3
   },
   "file_extension": ".py",
   "mimetype": "text/x-python",
   "name": "python",
   "nbconvert_exporter": "python",
   "pygments_lexer": "ipython3",
   "version": "3.11.5"
  }
 },
 "nbformat": 4,
 "nbformat_minor": 4
}
