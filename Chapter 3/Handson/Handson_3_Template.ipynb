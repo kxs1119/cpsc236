{
 "cells": [
  {
   "cell_type": "markdown",
   "metadata": {},
   "source": [
    "# Functions\n",
    "\n",
    "To submit this assignment in D2l, post the link to your notebook file on your GitHub account."
   ]
  },
  {
   "cell_type": "markdown",
   "metadata": {},
   "source": [
    "## 4.1 Even or Odd Checker\n",
    "Create a program that checks whether a number is even or odd.\n",
    "\n",
    "### Console:\n",
    "```powershell\n",
    "Even or Odd Checker\n",
    "\n",
    "Enter an integer: 33\n",
    "This is an odd number.\n",
    "```\n",
    "\n",
    "### Specifications:\n",
    "- Store the code that gets user input and displays output in the main function.\n",
    "- Store the code that checks whether the number is even or odd in a separate function.\n",
    "- Assume that the user will enter a valid integer.\n"
   ]
  },
  {
   "cell_type": "code",
   "execution_count": 8,
   "metadata": {},
   "outputs": [
    {
     "name": "stdout",
     "output_type": "stream",
     "text": [
      "Even or Odd Checker\n",
      "\n",
      "Enter a input: 32\n",
      "This is an even number\n"
     ]
    }
   ],
   "source": [
    "def Input():\n",
    "    userInput = int(input(\"Enter a input: \"))\n",
    "    return userInput\n",
    "    \n",
    "def main():\n",
    "    print(\"Even or Odd Checker\")\n",
    "    print()\n",
    "    number = Input()\n",
    "    if number % 2 == 0:\n",
    "        print(\"This is an even number\")\n",
    "    else:\n",
    "        print(\"This is an odd number\")\n",
    "        \n",
    "if __name__ == '__main__':\n",
    "    main()"
   ]
  },
  {
   "cell_type": "markdown",
   "metadata": {},
   "source": [
    "## 4.2 - Feet and Meters Converter\n",
    "Create a program that converts feet to meters and vice versa.\n",
    "\n",
    "### Console\n",
    "```powershell\n",
    "Feet and Meters Converter\n",
    "\n",
    "Conversions Menu:\n",
    "a.\tFeet to Meters\n",
    "b.\tMeters to Feet\n",
    "Select a conversion (a/b): a\n",
    "\n",
    "Enter feet: 100\n",
    "30.48 meters\n",
    "\n",
    "Would you like to perform another conversion? (y/n): y \n",
    "\n",
    "Conversions Menu:\n",
    "a.\tFeet to Meters\n",
    "b.\tMeters to Feet\n",
    "Select a conversion (a/b): b\n",
    "\n",
    "Enter meters: 100\n",
    "328.08 feet\n",
    "\n",
    "Would you like to perform another conversion? (y/n): n\n",
    "\n",
    "Thanks, bye!\n",
    "```\n",
    "\n",
    "### Specifications:\n",
    "- The formula for converting feet to meters is:\n",
    "`feet = meters / 0.3048`\n",
    "\n",
    "- The formula for converting meters to feet is:\n",
    "`meters = feet * 0.3048`\n",
    "\n",
    "- Store the code that performs the conversions in functions within a module. For example, store the code that converts feet to meters in a function in a module.\n",
    "- Store the code that displays the title in its own function, and store the code that displays the menu in its own function, but store the rest of the code that gets input and displays output in a main function.\n",
    "- Assume the user will enter valid data.\n",
    "- The program should round results to a maximum of two decimal places.\n",
    "\n",
    "\n"
   ]
  },
  {
   "cell_type": "code",
   "execution_count": 1,
   "metadata": {},
   "outputs": [
    {
     "name": "stdout",
     "output_type": "stream",
     "text": [
      "Feets to Meters Converter\n",
      "\n",
      "Conversion Meter\n",
      "a. Feet to Meters\n",
      "b. Meters to Feet\n"
     ]
    },
    {
     "name": "stdin",
     "output_type": "stream",
     "text": [
      "Select a conversion (a/b):  b\n"
     ]
    },
    {
     "name": "stdout",
     "output_type": "stream",
     "text": [
      "\n"
     ]
    },
    {
     "name": "stdin",
     "output_type": "stream",
     "text": [
      "Enter meters 2\n"
     ]
    },
    {
     "name": "stdout",
     "output_type": "stream",
     "text": [
      "0.61 feet\n"
     ]
    },
    {
     "name": "stdin",
     "output_type": "stream",
     "text": [
      " Would you like to perform another conversion? (y/n):  y\n"
     ]
    },
    {
     "name": "stdout",
     "output_type": "stream",
     "text": [
      "Feets to Meters Converter\n",
      "\n",
      "Conversion Meter\n",
      "a. Feet to Meters\n",
      "b. Meters to Feet\n"
     ]
    },
    {
     "name": "stdin",
     "output_type": "stream",
     "text": [
      "Select a conversion (a/b):  a\n"
     ]
    },
    {
     "name": "stdout",
     "output_type": "stream",
     "text": [
      "\n"
     ]
    },
    {
     "name": "stdin",
     "output_type": "stream",
     "text": [
      "Enter feet 2\n"
     ]
    },
    {
     "name": "stdout",
     "output_type": "stream",
     "text": [
      "6.56 meters\n"
     ]
    },
    {
     "name": "stdin",
     "output_type": "stream",
     "text": [
      " Would you like to perform another conversion? (y/n):  n\n"
     ]
    }
   ],
   "source": [
    "import conversion\n",
    "\n",
    "def main():\n",
    "    continueChoice = 'y'\n",
    "\n",
    "    while continueChoice.lower() == 'y':\n",
    "\n",
    "        print(\"Feets to Meters Converter\")\n",
    "        print()\n",
    "\n",
    "        print(\"Conversion Meter\")\n",
    "        print(\"a. Feet to Meters\")\n",
    "        print(\"b. Meters to Feet\")\n",
    "        convertChoice = input(\"Select a conversion (a/b): \")\n",
    "\n",
    "        if convertChoice.lower() == 'a':\n",
    "            print()\n",
    "            conversion.feetToMeters()\n",
    "\n",
    "        elif convertChoice.lower() == 'b':\n",
    "            print()\n",
    "            conversion.metersToFeet()\n",
    "\n",
    "        choiceMade = input(\" Would you like to perform another conversion? (y/n): \")\n",
    "\n",
    "        if choiceMade.lower() == 'n':\n",
    "            print(\"Thanks, bye!\")\n",
    "                break\n",
    "\n",
    "if __name__ == '__main__':\n",
    "    main()"
   ]
  },
  {
   "cell_type": "markdown",
   "metadata": {
    "tags": []
   },
   "source": [
    "## 4.3 - Sales Tax Calculator\n",
    "Create a program that uses a separate module to calculate sales tax and total after tax.\n",
    "\n",
    "### Console\n",
    "```powershell\n",
    "Sales Tax Calculator\n",
    "\n",
    "ENTER ITEMS (ENTER 0 TO END)\n",
    "Cost of item: 35.99 \n",
    "Cost of item: 27.50 \n",
    "Cost of item: 19.59 \n",
    "Cost of item: 0 \n",
    "Total:  83.08\n",
    "Sales tax:\t4.98\n",
    "Total after tax: 88.06 \n",
    "\n",
    "Again? (y/n): y\n",
    "\n",
    "ENTER ITEMS (ENTER 0 TO END)\n",
    "Cost of item: 152.50 \n",
    "Cost of item: 59.80 \n",
    "Cost of item: 0\n",
    "Total:  212.3\n",
    "Sales tax:\t12.74\n",
    "Total after tax: 225.04 \n",
    "\n",
    "Again? (y/n): n\n",
    "\n",
    "Thanks, bye!\n",
    "\n",
    "```\n",
    "\n",
    "### Specifications\n",
    "- The sales tax rate should be 6% of the total.\n",
    "- Store the sales tax rate in a module. This module should also contain functions that calculate the sales tax and the total after tax. These functions should round the results to a maximum of two decimal places. Upload the seperate sales tax module to your GitHub repo when submitting.\n",
    "- Store the code that gets input and displays output in this notebook. Divide this code into functions wherever you think it would make that code easier to read and maintain.\n",
    "- Assume the user will enter valid data.\n",
    "\n"
   ]
  },
  {
   "cell_type": "code",
   "execution_count": 8,
   "metadata": {},
   "outputs": [
    {
     "name": "stdout",
     "output_type": "stream",
     "text": [
      "Sales Tax Calculator\n",
      "\n",
      "ENTER ITEMS (ENTER 0 TO END)\n"
     ]
    },
    {
     "name": "stdin",
     "output_type": "stream",
     "text": [
      "Cost of item:  1\n",
      "Cost of item:  1\n",
      "Cost of item:  0\n"
     ]
    },
    {
     "ename": "AttributeError",
     "evalue": "module 'salesTaxRate' has no attribute 'salesTax'",
     "output_type": "error",
     "traceback": [
      "\u001b[0;31m---------------------------------------------------------------------------\u001b[0m",
      "\u001b[0;31mAttributeError\u001b[0m                            Traceback (most recent call last)",
      "Cell \u001b[0;32mIn[8], line 30\u001b[0m\n\u001b[1;32m     27\u001b[0m             \u001b[38;5;28;01mbreak\u001b[39;00m\n\u001b[1;32m     29\u001b[0m \u001b[38;5;28;01mif\u001b[39;00m \u001b[38;5;18m__name__\u001b[39m \u001b[38;5;241m==\u001b[39m \u001b[38;5;124m'\u001b[39m\u001b[38;5;124m__main__\u001b[39m\u001b[38;5;124m'\u001b[39m:\n\u001b[0;32m---> 30\u001b[0m     main()\n",
      "Cell \u001b[0;32mIn[8], line 17\u001b[0m, in \u001b[0;36mmain\u001b[0;34m()\u001b[0m\n\u001b[1;32m     14\u001b[0m         \u001b[38;5;28;01mbreak\u001b[39;00m\n\u001b[1;32m     15\u001b[0m     total \u001b[38;5;241m+\u001b[39m\u001b[38;5;241m=\u001b[39m costOfGoods\n\u001b[0;32m---> 17\u001b[0m salesTax \u001b[38;5;241m=\u001b[39m Tax\u001b[38;5;241m.\u001b[39msalesTax(total)\n\u001b[1;32m     18\u001b[0m total_after_tax \u001b[38;5;241m=\u001b[39m Tax\u001b[38;5;241m.\u001b[39mafterTax(total)\n\u001b[1;32m     20\u001b[0m \u001b[38;5;28mprint\u001b[39m(\u001b[38;5;124mf\u001b[39m\u001b[38;5;124m\"\u001b[39m\u001b[38;5;124mTotal: \u001b[39m\u001b[38;5;132;01m{\u001b[39;00mtotal\u001b[38;5;132;01m:\u001b[39;00m\u001b[38;5;124m.2f\u001b[39m\u001b[38;5;132;01m}\u001b[39;00m\u001b[38;5;124m\"\u001b[39m)\n",
      "\u001b[0;31mAttributeError\u001b[0m: module 'salesTaxRate' has no attribute 'salesTax'"
     ]
    }
   ],
   "source": [
    "import salesTaxRate as Tax\n",
    "\n",
    "def main():\n",
    "    print(\"Sales Tax Calculator\")\n",
    "    print()\n",
    "\n",
    "    while True:\n",
    "        total = 0\n",
    "        print(\"ENTER ITEMS (ENTER 0 TO END)\")\n",
    "\n",
    "        while True:\n",
    "            costOfGoods = float(input(\"Cost of item: \"))\n",
    "            if costOfGoods == 0:\n",
    "                break\n",
    "            total += costOfGoods\n",
    "\n",
    "        salesTax = Tax.salesTax(total)\n",
    "        total_after_tax = Tax.afterTax(total)\n",
    "\n",
    "        print(f\"Total: {total:.2f}\")\n",
    "        print(f\"Sales tax: {sales_tax:.2f}\")\n",
    "        print(f\"Total after tax: {total_after_tax:.2f}\")\n",
    "\n",
    "        again = input(\"Again? (y/n): \")\n",
    "        if again.lower() != 'y':\n",
    "            print(\"Thanks, bye!\")\n",
    "            break\n",
    "\n",
    "if __name__ == '__main__':\n",
    "    main()\n"
   ]
  },
  {
   "cell_type": "markdown",
   "metadata": {},
   "source": [
    "## 4.4 - Prime Number Checker\n",
    "Create a program that checks whether a number is a prime number and displays the total number of factors if it is not a prime number.\n",
    "\n",
    "### Console\n",
    "```powershell\n",
    "Prime Number Checker\n",
    "\n",
    "Please enter an integer between 1 and 5000: 1 \n",
    "Invalid integer. Please try again.\n",
    "Please enter an integer between 1 and 5000: 2\n",
    "2 is a prime number. \n",
    "\n",
    "Try again? (y/n): y\n",
    "\n",
    "Please enter an integer between 1 and 5000: 3\n",
    "3 is a prime number.\n",
    "\n",
    "Try again? (y/n): y\n",
    "\n",
    "Please enter an integer between 1 and 5000: 4\n",
    "4 is NOT a prime number.\n",
    "It has 3 factors.\n",
    "\n",
    "Try again? (y/n): y\n",
    "\n",
    "Please enter an integer between 1 and 5000: 6\n",
    "6 is NOT a prime number.\n",
    "It has 4 factors.\n",
    "\n",
    "Try again? (y/n): n\n",
    "\n",
    "Bye!\n",
    "```\n",
    "\n",
    "### Specifications\n",
    "- A prime number is only divisible by two factors (1 and itself). For example, 7 is a prime number because it is only divisible by 1 and 7.\n",
    "- If the number is not a prime number, the program should display its number of factors. For example, 6 has four factors (1, 2, 3, and 6).\n",
    "- Store the code that gets a valid integer for this program in its own function.\n",
    "- Store the code that calculates the number of factors for a number in its own function.\n",
    "- Store the rest of the code that gets input and displays output in the main function.\n",
    "\n"
   ]
  },
  {
   "cell_type": "code",
   "execution_count": null,
   "metadata": {},
   "outputs": [
    {
     "name": "stdout",
     "output_type": "stream",
     "text": [
      "Prime Number Checker\n",
      "\n"
     ]
    },
    {
     "name": "stdin",
     "output_type": "stream",
     "text": [
      "Please enter an integer between 1 and 5000:  2\n"
     ]
    },
    {
     "name": "stdout",
     "output_type": "stream",
     "text": [
      "2 is a prime number.\n"
     ]
    },
    {
     "name": "stdin",
     "output_type": "stream",
     "text": [
      "Try again? (y/n):  y\n",
      "Please enter an integer between 1 and 5000:  3\n"
     ]
    },
    {
     "name": "stdout",
     "output_type": "stream",
     "text": [
      "3 is a prime number.\n"
     ]
    },
    {
     "name": "stdin",
     "output_type": "stream",
     "text": [
      "Try again? (y/n):  y\n",
      "Please enter an integer between 1 and 5000:  31\n"
     ]
    },
    {
     "name": "stdout",
     "output_type": "stream",
     "text": [
      "31 is a prime number.\n"
     ]
    },
    {
     "name": "stdin",
     "output_type": "stream",
     "text": [
      "Try again? (y/n):  y\n",
      "Please enter an integer between 1 and 5000:  9\n"
     ]
    },
    {
     "name": "stdout",
     "output_type": "stream",
     "text": [
      "9 is NOT a prime number.\n",
      "It has 3 factors.\n"
     ]
    }
   ],
   "source": [
    "import primeNumber as pn\n",
    "def main():\n",
    "    print(\"Prime Number Checker\")\n",
    "    print()\n",
    "\n",
    "    while True:\n",
    "        num = pn.getValid()\n",
    "\n",
    "        if pn.isPrime(num):\n",
    "            print(f\"{num} is a prime number.\")\n",
    "        else:\n",
    "            factor_count = pn.countFactors(num)\n",
    "            print(f\"{num} is NOT a prime number.\")\n",
    "            print(f\"It has {factor_count} factors.\")\n",
    "\n",
    "        choice = input(\"Try again? (y/n): \")\n",
    "        if choice.lower() != 'y':\n",
    "            print(\"Bye!\")\n",
    "            break\n",
    "\n",
    "if __name__ == '__main__':\n",
    "    main()"
   ]
  },
  {
   "cell_type": "code",
   "execution_count": null,
   "metadata": {},
   "outputs": [],
   "source": []
  }
 ],
 "metadata": {
  "kernelspec": {
   "display_name": "Python 3 (ipykernel)",
   "language": "python",
   "name": "python3"
  },
  "language_info": {
   "codemirror_mode": {
    "name": "ipython",
    "version": 3
   },
   "file_extension": ".py",
   "mimetype": "text/x-python",
   "name": "python",
   "nbconvert_exporter": "python",
   "pygments_lexer": "ipython3",
   "version": "3.11.5"
  }
 },
 "nbformat": 4,
 "nbformat_minor": 4
}
