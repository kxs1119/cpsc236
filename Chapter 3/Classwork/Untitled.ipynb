{
 "cells": [
  {
   "cell_type": "code",
   "execution_count": null,
   "id": "cc911614",
   "metadata": {},
   "outputs": [],
   "source": [
    "# A function is a group of statements within a program that perform as specific task\n",
    "# Always ends with ()\n",
    "# Known as divide and conquer approach\n",
    "def function():\n",
    "    print(\"Hello \")\n",
    "    print(\"World!\")\n",
    "\n",
    "function() # Calling a function "
   ]
  },
  {
   "cell_type": "code",
   "execution_count": null,
   "id": "949639c9",
   "metadata": {},
   "outputs": [],
   "source": [
    "def returnOne():\n",
    "    return 1,2\n",
    "print(returnOne())"
   ]
  },
  {
   "cell_type": "code",
   "execution_count": null,
   "id": "156c5c6d",
   "metadata": {},
   "outputs": [],
   "source": [
    "# Powerpoint example \n",
    "\n",
    "def getMessage():\n",
    "    return \"Welcome to the Future Value Calculator\"\n",
    "\n",
    "# Call the function\n",
    "message = getMessage()\n",
    "print(message)\n"
   ]
  },
  {
   "cell_type": "code",
   "execution_count": null,
   "id": "21c0f927",
   "metadata": {},
   "outputs": [],
   "source": [
    "def fun():\n",
    "    s = \"text\"\n",
    "    x = 10\n",
    "    return s,x\n",
    "ss, xx = fun()\n",
    "print(ss)\n",
    "print(xx)"
   ]
  },
  {
   "cell_type": "code",
   "execution_count": null,
   "id": "1ec1d758",
   "metadata": {},
   "outputs": [],
   "source": [
    "def calc_tax(amount,tax_rate):\n",
    "    tax = amount * tax_rate # tax is local variable of the calc_tax function\n",
    "    return tax\n",
    "def main():\n",
    "    tax = calc_tax(85,.07) # tax is local variable here in main function\n",
    "    print(\"Tax:\",tax)\n",
    "main()"
   ]
  },
  {
   "cell_type": "code",
   "execution_count": null,
   "id": "31cd4ca1",
   "metadata": {},
   "outputs": [],
   "source": [
    "# Call by reference example {if immutable(able to change), its call by reference}\n",
    "def add_more(list):\n",
    "    list.append(50)\n",
    "    print(\"Inside Function\", list)\n",
    "    \n",
    "mylist = [10,12,33,44]\n",
    "add_more(mylist)\n",
    "print(\"Outside Function\", mylist)"
   ]
  },
  {
   "cell_type": "code",
   "execution_count": null,
   "id": "76bfc8ff",
   "metadata": {},
   "outputs": [],
   "source": [
    "def factorial(number):\n",
    "    for i in range(number,13):\n",
    "        for j in range(1,13):\n",
    "            answer = number * j\n",
    "            print(answer)\n",
    "\n",
    "\n",
    "Choice = 'y'\n",
    "while Choice.lower == 'y':\n",
    "    userInput = int(input(\"Enter a number: \"))\n",
    "    if userInput < 0:\n",
    "        print(\"Retry again\")\n",
    "    factorial(userInput)\n",
    "    choiceInput = input(\"Continue? (y/n)\")\n",
    "    if choiceInput != Choice:\n",
    "        break"
   ]
  },
  {
   "cell_type": "code",
   "execution_count": null,
   "id": "b5e4a503",
   "metadata": {},
   "outputs": [],
   "source": [
    "# create a function that will start at the user input, add till the end,then multiply it \n",
    "def variable(start,end):\n",
    "    for i in range(start,end+1):\n",
    "        sum+=i\n",
    "        product*=i\n",
    "        \n",
    "        return sumNum, multi\n",
    "\n",
    "int1 = int(input(\"Enter a number: \"))\n",
    "int2 = int(input(\"Enter a second number:\"))\n",
    "\n",
    "sum,product = variable(start=int1,end=int2)\n",
    "print(variable(start=int1,end=int2))"
   ]
  },
  {
   "cell_type": "code",
   "execution_count": 1,
   "id": "673f133f",
   "metadata": {},
   "outputs": [
    {
     "ename": "UnboundLocalError",
     "evalue": "cannot access local variable 'answer' where it is not associated with a value",
     "output_type": "error",
     "traceback": [
      "\u001b[0;31m---------------------------------------------------------------------------\u001b[0m",
      "\u001b[0;31mUnboundLocalError\u001b[0m                         Traceback (most recent call last)",
      "Cell \u001b[0;32mIn[1], line 8\u001b[0m\n\u001b[1;32m      5\u001b[0m             answer \u001b[38;5;241m+\u001b[39m\u001b[38;5;241m=\u001b[39m z\n\u001b[1;32m      6\u001b[0m     \u001b[38;5;28;01mreturn\u001b[39;00m \u001b[38;5;28msum\u001b[39m \u001b[38;5;241m+\u001b[39m x \u001b[38;5;241m+\u001b[39m y \n\u001b[0;32m----> 8\u001b[0m \u001b[38;5;28mprint\u001b[39m(Sum(\u001b[38;5;241m5\u001b[39m,\u001b[38;5;241m5\u001b[39m,\u001b[38;5;241m2\u001b[39m))\n",
      "Cell \u001b[0;32mIn[1], line 5\u001b[0m, in \u001b[0;36mSum\u001b[0;34m(x, y, *z)\u001b[0m\n\u001b[1;32m      3\u001b[0m \u001b[38;5;28;01mif\u001b[39;00m(\u001b[38;5;28mlen\u001b[39m(z) \u001b[38;5;241m>\u001b[39m \u001b[38;5;241m0\u001b[39m):\n\u001b[1;32m      4\u001b[0m     \u001b[38;5;28;01mfor\u001b[39;00m i \u001b[38;5;129;01min\u001b[39;00m z:\n\u001b[0;32m----> 5\u001b[0m         answer \u001b[38;5;241m+\u001b[39m\u001b[38;5;241m=\u001b[39m z\n\u001b[1;32m      6\u001b[0m \u001b[38;5;28;01mreturn\u001b[39;00m \u001b[38;5;28msum\u001b[39m \u001b[38;5;241m+\u001b[39m x \u001b[38;5;241m+\u001b[39m y\n",
      "\u001b[0;31mUnboundLocalError\u001b[0m: cannot access local variable 'answer' where it is not associated with a value"
     ]
    }
   ],
   "source": [
    "def Sum(x,y,*z):\n",
    "    sum = 0\n",
    "    if(len(z) > 0):\n",
    "        for i in z:\n",
    "            answer += z\n",
    "    return sum + x + y \n",
    "\n",
    "print(Sum(5,5,2))"
   ]
  },
  {
   "cell_type": "code",
   "execution_count": 4,
   "id": "c7bedab9",
   "metadata": {},
   "outputs": [
    {
     "name": "stdout",
     "output_type": "stream",
     "text": [
      "fun2: 5\n",
      "fun1: 5\n"
     ]
    }
   ],
   "source": [
    "x = 100 # this is a global variable\n",
    "def fun1():\n",
    "    print(\"fun1:\",x)\n",
    "def fun2():\n",
    "    global x # using the global value for x $ redeclaration \n",
    "    x = 5 \n",
    "    print(\"fun2:\",x)\n",
    "fun2()\n",
    "fun1()\n"
   ]
  },
  {
   "cell_type": "code",
   "execution_count": 5,
   "id": "82565e5e",
   "metadata": {},
   "outputs": [
    {
     "name": "stdout",
     "output_type": "stream",
     "text": [
      "Help on function fun2 in module __main__:\n",
      "\n",
      "fun2()\n",
      "    fun2 changes valie of x to 5 and print value of x\n",
      "\n"
     ]
    }
   ],
   "source": [
    "# Using the help functions \n",
    "\n",
    "# Docstring is used to show how the function is being used\n",
    "x = 100 # this is a global variable\n",
    "def fun1():\n",
    "    \"\"\"\n",
    "    func1 prints local value of x\n",
    "    \"\"\"\n",
    "    print(\"fun1:\",x)\n",
    "def fun2():\n",
    "    \"\"\"\n",
    "    fun2 changes value of x to 5 and print value of x \n",
    "    \"\"\"\n",
    "    global x # using the global value for x $ redeclaration \n",
    "    x = 5 \n",
    "    print(\"fun2:\",x)\n",
    "\n",
    "help(fun2)\n",
    "\n",
    "# This is helps for making manuals for the project "
   ]
  },
  {
   "cell_type": "code",
   "execution_count": 6,
   "id": "f652796f",
   "metadata": {},
   "outputs": [],
   "source": [
    "# Function stub means i will pass on the function and work on it later\n",
    "# keyword needed is 'pass'"
   ]
  },
  {
   "cell_type": "code",
   "execution_count": 7,
   "id": "87edaaf1",
   "metadata": {},
   "outputs": [],
   "source": [
    "# Modules are files that store functions of the standard libaries \n",
    "# how to use? Import module-name\n",
    "# how to implement? module-name.function_name()"
   ]
  },
  {
   "cell_type": "code",
   "execution_count": 9,
   "id": "e038d512",
   "metadata": {},
   "outputs": [
    {
     "name": "stdout",
     "output_type": "stream",
     "text": [
      "6\n"
     ]
    }
   ],
   "source": [
    "import random \n",
    "'''give me a even number between 0 and 10 and step by 2 '''\n",
    "print(random.randrange(0,10,2)) # start, end, step"
   ]
  },
  {
   "cell_type": "code",
   "execution_count": 10,
   "id": "d2385111",
   "metadata": {},
   "outputs": [
    {
     "name": "stdout",
     "output_type": "stream",
     "text": [
      "0.29611013610352765\n"
     ]
    }
   ],
   "source": [
    "import random\n",
    "\n",
    "print(random.random())"
   ]
  },
  {
   "cell_type": "code",
   "execution_count": 11,
   "id": "80610f58",
   "metadata": {},
   "outputs": [],
   "source": [
    "# Random number seed: changes the seed regenerate a different number from\n",
    "# give number"
   ]
  },
  {
   "cell_type": "code",
   "execution_count": 12,
   "id": "4c33d265",
   "metadata": {},
   "outputs": [],
   "source": [
    "# the main function \n",
    "# main() is used to test the other functions \n",
    "# you have to call the main "
   ]
  },
  {
   "cell_type": "code",
   "execution_count": 15,
   "id": "77fbcab7",
   "metadata": {},
   "outputs": [
    {
     "name": "stdout",
     "output_type": "stream",
     "text": [
      "0.6931456257880293\n"
     ]
    }
   ],
   "source": [
    "import random\n",
    "def main():\n",
    "    print(random.random())\n",
    "\n",
    "if __name__ == \"__main__\": # this is a good practice \n",
    "    main()"
   ]
  },
  {
   "cell_type": "code",
   "execution_count": 17,
   "id": "b3cb8290",
   "metadata": {},
   "outputs": [
    {
     "data": {
      "text/plain": [
       "'\\n    #If i only want to use one module form a library or file,\\n   # I need to use  \"module-name import *\" \\n'"
      ]
     },
     "execution_count": 17,
     "metadata": {},
     "output_type": "execute_result"
    }
   ],
   "source": [
    "'''\n",
    "    #If i only want to use one module form a library or file,\n",
    "   # I need to use  \"module-name import *\" \n",
    "'''"
   ]
  },
  {
   "cell_type": "code",
   "execution_count": 23,
   "id": "49790980",
   "metadata": {},
   "outputs": [
    {
     "name": "stdout",
     "output_type": "stream",
     "text": [
      "Enter a guess: 342\n",
      "Too high!\n",
      "Enter a guess: 22\n",
      "Too low!\n",
      "Enter a guess: 44\n",
      "Too low!\n",
      "Enter a guess: 88\n",
      "Too low!\n",
      "Enter a guess: 99\n",
      "Too high!\n",
      "Enter a guess: 98\n",
      "Too high!\n",
      "Enter a guess: 97\n",
      "You are correct\n",
      "Would you like to go again? (y/n)n\n"
     ]
    }
   ],
   "source": [
    "import random as r \n",
    "\n",
    "guess = r.randrange(0,100)\n",
    "cont = 'yes'\n",
    "while cont == 'yes':\n",
    "    usersInput = int(input(\"Enter a guess: \"))\n",
    "    if usersInput > guess:\n",
    "        print(\"Too high!\")\n",
    "        continue \n",
    "    elif usersInput < guess:\n",
    "        print(\"Too low!\")\n",
    "        continue\n",
    "    else:\n",
    "        print(\"You are correct\")\n",
    "        cont = 'no'\n",
    "        break\n",
    "choice = input(\"Would you like to go again? (y/n)\")"
   ]
  },
  {
   "cell_type": "code",
   "execution_count": 4,
   "id": "d998d201",
   "metadata": {},
   "outputs": [
    {
     "name": "stdout",
     "output_type": "stream",
     "text": [
      "Hey there, Delialah\n"
     ]
    }
   ],
   "source": [
    "# lambda notation \n",
    "\n",
    "greet_user = lambda name: print('Hey there,', name)\n",
    "\n",
    "# lambda call\n",
    "greet_user('Delialah')"
   ]
  },
  {
   "cell_type": "code",
   "execution_count": 6,
   "id": "36acf531",
   "metadata": {},
   "outputs": [
    {
     "data": {
      "text/plain": [
       "6"
      ]
     },
     "execution_count": 6,
     "metadata": {},
     "output_type": "execute_result"
    }
   ],
   "source": [
    "(lambda x : x * 2)(3)"
   ]
  },
  {
   "cell_type": "code",
   "execution_count": null,
   "id": "44bdcf65",
   "metadata": {},
   "outputs": [],
   "source": []
  }
 ],
 "metadata": {
  "kernelspec": {
   "display_name": "Python 3 (ipykernel)",
   "language": "python",
   "name": "python3"
  },
  "language_info": {
   "codemirror_mode": {
    "name": "ipython",
    "version": 3
   },
   "file_extension": ".py",
   "mimetype": "text/x-python",
   "name": "python",
   "nbconvert_exporter": "python",
   "pygments_lexer": "ipython3",
   "version": "3.11.5"
  }
 },
 "nbformat": 4,
 "nbformat_minor": 5
}
