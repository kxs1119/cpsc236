{
 "cells": [
  {
   "cell_type": "code",
   "execution_count": 1,
   "id": "569e7fc7",
   "metadata": {},
   "outputs": [],
   "source": [
    "# collection = single variable that is used to store multiple value\n",
    "# List = [] ordered and changable, Duplicates OK\n",
    "# Set = {} unordered and immutable, but Add/Remove OK, no Duplicates\n",
    "# Tuples = () ordered and unchangable, Duplicates are Ok, Faster"
   ]
  },
  {
   "cell_type": "code",
   "execution_count": 7,
   "id": "3ab866ee",
   "metadata": {},
   "outputs": [
    {
     "name": "stdout",
     "output_type": "stream",
     "text": [
      "['coconut', 'banana', 'orange', 'apple']\n"
     ]
    }
   ],
   "source": [
    "fruits = [\"apple\", \"orange\", \"banana\", \"coconut\"]\n",
    "\n",
    "print(fruits[::-1])"
   ]
  },
  {
   "cell_type": "code",
   "execution_count": 10,
   "id": "e5390b98",
   "metadata": {},
   "outputs": [
    {
     "name": "stdout",
     "output_type": "stream",
     "text": [
      "appl\n",
      "orang\n",
      "banan\n",
      "coconu\n"
     ]
    }
   ],
   "source": [
    "# iterate with a for loop \n",
    "\n",
    "for fruit in fruits:\n",
    "    print(fruit[])"
   ]
  },
  {
   "cell_type": "code",
   "execution_count": 11,
   "id": "53658312",
   "metadata": {},
   "outputs": [
    {
     "name": "stdout",
     "output_type": "stream",
     "text": [
      "['__add__', '__class__', '__class_getitem__', '__contains__', '__delattr__', '__delitem__', '__dir__', '__doc__', '__eq__', '__format__', '__ge__', '__getattribute__', '__getitem__', '__getstate__', '__gt__', '__hash__', '__iadd__', '__imul__', '__init__', '__init_subclass__', '__iter__', '__le__', '__len__', '__lt__', '__mul__', '__ne__', '__new__', '__reduce__', '__reduce_ex__', '__repr__', '__reversed__', '__rmul__', '__setattr__', '__setitem__', '__sizeof__', '__str__', '__subclasshook__', 'append', 'clear', 'copy', 'count', 'extend', 'index', 'insert', 'pop', 'remove', 'reverse', 'sort']\n"
     ]
    }
   ],
   "source": [
    "print(dir(fruits))"
   ]
  },
  {
   "cell_type": "code",
   "execution_count": 13,
   "id": "dee695b8",
   "metadata": {},
   "outputs": [
    {
     "name": "stdout",
     "output_type": "stream",
     "text": [
      "['History', 'Math', 'Physic', 'Computer Sci']\n",
      "4\n"
     ]
    }
   ],
   "source": [
    "courses =[\"History\", \"Math\", \"Physic\", \"Computer Sci\"] # Creating a list\n",
    "print(courses)\n",
    "print(len(courses))"
   ]
  },
  {
   "cell_type": "code",
   "execution_count": 14,
   "id": "145b8a6a",
   "metadata": {},
   "outputs": [
    {
     "name": "stdout",
     "output_type": "stream",
     "text": [
      "History\n"
     ]
    }
   ],
   "source": [
    "print(courses[0])"
   ]
  },
  {
   "cell_type": "code",
   "execution_count": 16,
   "id": "91f8dbb3",
   "metadata": {},
   "outputs": [
    {
     "name": "stdout",
     "output_type": "stream",
     "text": [
      "This is the last index Computer Sci\n"
     ]
    }
   ],
   "source": [
    "print(\"This is the last index\",courses[3])"
   ]
  },
  {
   "cell_type": "code",
   "execution_count": 18,
   "id": "98b68e00",
   "metadata": {},
   "outputs": [
    {
     "name": "stdout",
     "output_type": "stream",
     "text": [
      "Computer Sci\n"
     ]
    }
   ],
   "source": [
    "print(courses[-1])"
   ]
  },
  {
   "cell_type": "code",
   "execution_count": 23,
   "id": "45e1298d",
   "metadata": {},
   "outputs": [
    {
     "name": "stdout",
     "output_type": "stream",
     "text": [
      "['Physic', 'Computer Sci']\n"
     ]
    }
   ],
   "source": [
    "# Access a range of values\n",
    "\n",
    "print(courses[2:]) # This is called slicing"
   ]
  },
  {
   "cell_type": "code",
   "execution_count": 24,
   "id": "e635bb10",
   "metadata": {},
   "outputs": [
    {
     "name": "stdout",
     "output_type": "stream",
     "text": [
      "['History', 'Math', 'Physic', 'Computer Sci', 'Art']\n"
     ]
    }
   ],
   "source": [
    "# List methods \n",
    "\n",
    "# add an item to list that will append to the end of the list\n",
    "courses.append('Art')\n",
    "\n",
    "print(courses)"
   ]
  },
  {
   "cell_type": "code",
   "execution_count": 27,
   "id": "3b6b01a2",
   "metadata": {},
   "outputs": [
    {
     "name": "stdout",
     "output_type": "stream",
     "text": [
      "['Biology', 'Biology', 'Biology', 'History', 'Math', 'Physic', 'Computer Sci', 'Art']\n"
     ]
    }
   ],
   "source": [
    "# Insert method, which is inserting element into a specific index\n",
    "\n",
    "# takes the (index,value)\n",
    "\n",
    "courses.insert(0,'Biology')\n",
    "print(courses)"
   ]
  },
  {
   "cell_type": "code",
   "execution_count": 30,
   "id": "1c71bf7c",
   "metadata": {},
   "outputs": [
    {
     "name": "stdout",
     "output_type": "stream",
     "text": [
      "['Biology', 'History', 'Math', 'Physic', 'Computer Sci', 'Art']\n"
     ]
    }
   ],
   "source": [
    "# deleting a specific index from list\n",
    "del courses[0]\n",
    "print(courses)"
   ]
  },
  {
   "cell_type": "code",
   "execution_count": 32,
   "id": "9a33c15c",
   "metadata": {},
   "outputs": [
    {
     "name": "stdout",
     "output_type": "stream",
     "text": [
      "['Biology', 'History', 'Math', 'Physic', 'Computer Sci', 'Art', 'Art', 'Education']\n"
     ]
    }
   ],
   "source": [
    "# extend method is when we want to add multiple values to our list\n",
    "courses2 = ['Art', 'Education']\n",
    "# course.insert(0,courses2)  created a list in a list instead of extending the list\n",
    "\n",
    "courses.extend(courses2)\n",
    "\n",
    "print(courses)"
   ]
  },
  {
   "cell_type": "code",
   "execution_count": 33,
   "id": "6eb22550",
   "metadata": {},
   "outputs": [
    {
     "name": "stdout",
     "output_type": "stream",
     "text": [
      "['Biology', 'History', 'Physic', 'Computer Sci', 'Art', 'Art', 'Education']\n"
     ]
    }
   ],
   "source": [
    "# Remove values from list\n",
    "\n",
    "courses.remove('Math') # Removes a specific element from the list\n",
    "print(courses)"
   ]
  },
  {
   "cell_type": "code",
   "execution_count": 35,
   "id": "1c2c6996",
   "metadata": {},
   "outputs": [
    {
     "name": "stdout",
     "output_type": "stream",
     "text": [
      "['Biology', 'History', 'Physic', 'Computer Sci', 'Art']\n",
      "\n",
      "Art\n"
     ]
    }
   ],
   "source": [
    "# Pop method \n",
    "removedItem = courses.pop() # By default without arguments, it will remove the last value\n",
    "\n",
    "print(courses)\n",
    "print()\n",
    "print(removedItem)"
   ]
  },
  {
   "cell_type": "code",
   "execution_count": 39,
   "id": "c841a506",
   "metadata": {},
   "outputs": [
    {
     "name": "stdout",
     "output_type": "stream",
     "text": [
      "['ladybug', 'cow', 'pig']\n"
     ]
    }
   ],
   "source": [
    "# Sorting a list methods\n",
    "\n",
    "animals = ['pig', 'cow', 'ladybug']\n",
    "animals.reverse()\n",
    "print(animals)"
   ]
  },
  {
   "cell_type": "code",
   "execution_count": 40,
   "id": "2abde1d3",
   "metadata": {},
   "outputs": [
    {
     "name": "stdout",
     "output_type": "stream",
     "text": [
      "['cow', 'ladybug', 'pig']\n"
     ]
    }
   ],
   "source": [
    "animals.sort()\n",
    "print(animals)"
   ]
  },
  {
   "cell_type": "code",
   "execution_count": 42,
   "id": "44b45fd1",
   "metadata": {},
   "outputs": [
    {
     "name": "stdout",
     "output_type": "stream",
     "text": [
      "[1, 5, 5, 34, 76]\n",
      "['cow', 'ladybug', 'pig']\n"
     ]
    }
   ],
   "source": [
    "# sorting numbers in a list with the sorting method\n",
    "\n",
    "num = [1, 5, 34, 5, 76]\n",
    "num.sort()\n",
    "print(num)\n",
    "print(animals)"
   ]
  },
  {
   "cell_type": "code",
   "execution_count": 45,
   "id": "142e5433",
   "metadata": {},
   "outputs": [
    {
     "name": "stdout",
     "output_type": "stream",
     "text": [
      "[76, 34, 5, 5, 1]\n"
     ]
    }
   ],
   "source": [
    "# Sorting values in descending order\n",
    "num.sort(reverse=True)\n",
    "print(num)"
   ]
  },
  {
   "cell_type": "code",
   "execution_count": 49,
   "id": "07182ecf",
   "metadata": {},
   "outputs": [
    {
     "name": "stdout",
     "output_type": "stream",
     "text": [
      "['Art', 'Biology', 'Computer Sci', 'History', 'Physic']\n",
      "['Biology', 'History', 'Physic', 'Computer Sci', 'Art']\n"
     ]
    }
   ],
   "source": [
    "# Sorting a list without changing the list \n",
    "sorted_courses = sorted(courses)\n",
    "print(sorted_courses)\n",
    "print(courses)"
   ]
  },
  {
   "cell_type": "code",
   "execution_count": 51,
   "id": "83ca6bcc",
   "metadata": {},
   "outputs": [
    {
     "name": "stdout",
     "output_type": "stream",
     "text": [
      "76\n"
     ]
    }
   ],
   "source": [
    "# Min, Max, Sum methods in a list\n",
    "\n",
    "print(max(num)) # max of list"
   ]
  },
  {
   "cell_type": "code",
   "execution_count": 52,
   "id": "a5d53bea",
   "metadata": {},
   "outputs": [
    {
     "name": "stdout",
     "output_type": "stream",
     "text": [
      "1\n"
     ]
    }
   ],
   "source": [
    "print(min(num)) # min of list"
   ]
  },
  {
   "cell_type": "code",
   "execution_count": 53,
   "id": "68d0ee34",
   "metadata": {},
   "outputs": [
    {
     "name": "stdout",
     "output_type": "stream",
     "text": [
      "121\n"
     ]
    }
   ],
   "source": [
    "print(sum(num))"
   ]
  },
  {
   "cell_type": "code",
   "execution_count": 54,
   "id": "3924dabe",
   "metadata": {},
   "outputs": [
    {
     "name": "stdout",
     "output_type": "stream",
     "text": [
      "3\n"
     ]
    }
   ],
   "source": [
    "# Finding values in a list\n",
    "\n",
    "# index of compsci, not the value\n",
    "print(courses.index('Computer Sci'))"
   ]
  },
  {
   "cell_type": "code",
   "execution_count": 55,
   "id": "78e29a91",
   "metadata": {},
   "outputs": [],
   "source": [
    "# If we try to find a value, that doesnt exist in the list, You will get an error."
   ]
  },
  {
   "cell_type": "code",
   "execution_count": 58,
   "id": "ea624372",
   "metadata": {},
   "outputs": [
    {
     "name": "stdout",
     "output_type": "stream",
     "text": [
      "True\n",
      "False\n"
     ]
    }
   ],
   "source": [
    "# Check if a value is inside of a list\n",
    "print('Art' in courses)\n",
    "print('Zoolology' in courses)"
   ]
  },
  {
   "cell_type": "code",
   "execution_count": 62,
   "id": "20965098",
   "metadata": {},
   "outputs": [
    {
     "name": "stdout",
     "output_type": "stream",
     "text": [
      "Biology\n",
      "History\n",
      "Physic\n",
      "Computer Sci\n",
      "Art\n"
     ]
    }
   ],
   "source": [
    "# Looping in a list \n",
    "for index in courses:\n",
    "    print(index)"
   ]
  },
  {
   "cell_type": "code",
   "execution_count": 64,
   "id": "2b50ae69",
   "metadata": {},
   "outputs": [
    {
     "name": "stdout",
     "output_type": "stream",
     "text": [
      "1 Biology\n",
      "2 History\n",
      "3 Physic\n",
      "4 Computer Sci\n",
      "5 Art\n"
     ]
    }
   ],
   "source": [
    "# Accessing index and value by using the enumerate function\n",
    "\n",
    "for index, course in enumerate(courses, start=1):\n",
    "    print(index, course)"
   ]
  },
  {
   "cell_type": "code",
   "execution_count": 67,
   "id": "7e8feda7",
   "metadata": {},
   "outputs": [
    {
     "name": "stdout",
     "output_type": "stream",
     "text": [
      "Biology, History, Physic, Computer Sci, Art\n",
      "['Biology', 'History', 'Physic', 'Computer Sci', 'Art']\n"
     ]
    }
   ],
   "source": [
    "# turn list into string\n",
    "\n",
    "course_str = ', '.join(courses)\n",
    "\n",
    "new_list = course_str.split(', ')\n",
    "print(course_str)\n",
    "print(new_list)"
   ]
  },
  {
   "cell_type": "code",
   "execution_count": 68,
   "id": "c631cdd0",
   "metadata": {},
   "outputs": [
    {
     "name": "stdout",
     "output_type": "stream",
     "text": [
      "('History', 'Biology', 'Math', 'Compsci')\n",
      "('History', 'Biology', 'Math', 'Compsci')\n"
     ]
    }
   ],
   "source": [
    "# Tuples = ()\n",
    "# tuples are immutable and cant be change\n",
    "# Cannot append  \n",
    "tuples1 = ('History', 'Biology', 'Math', 'Compsci')\n",
    "tuples2 = tuples1\n",
    "\n",
    "print(tuples1)\n",
    "print(tuples2)"
   ]
  },
  {
   "cell_type": "code",
   "execution_count": 69,
   "id": "aa1239ba",
   "metadata": {},
   "outputs": [],
   "source": [
    "# Sets are unordered and does not have any duplicates\n",
    "\n",
    "# Sets are used to remove duplicate values and to test if a value is part of a set"
   ]
  },
  {
   "cell_type": "code",
   "execution_count": 80,
   "id": "8774bca3",
   "metadata": {},
   "outputs": [
    {
     "name": "stdout",
     "output_type": "stream",
     "text": [
      "{'Discrete', 'Levels Theory', 'Organization', 'Software Engineer', 'Math', 'Programming Theory'}\n"
     ]
    }
   ],
   "source": [
    "cs_courses = {'Discrete', 'Organization', 'Programming Theory', 'Software Engineer'\n",
    "              , 'Discrete'}\n",
    "art_courses = {'Discrete', 'Math', 'Levels Theory', 'Software Engineer'\n",
    "              , 'Discrete'}\n",
    "\n",
    "print(cs_courses.union(art_courses))"
   ]
  },
  {
   "cell_type": "code",
   "execution_count": 75,
   "id": "92177c52",
   "metadata": {},
   "outputs": [
    {
     "name": "stdout",
     "output_type": "stream",
     "text": [
      "{'Programming Theory', 'Discrete', 'Organization', 'Software Engineer'}\n"
     ]
    }
   ],
   "source": [
    "print(cs_courses)"
   ]
  },
  {
   "cell_type": "code",
   "execution_count": null,
   "id": "3cecf7d9",
   "metadata": {},
   "outputs": [],
   "source": []
  }
 ],
 "metadata": {
  "kernelspec": {
   "display_name": "Python 3 (ipykernel)",
   "language": "python",
   "name": "python3"
  },
  "language_info": {
   "codemirror_mode": {
    "name": "ipython",
    "version": 3
   },
   "file_extension": ".py",
   "mimetype": "text/x-python",
   "name": "python",
   "nbconvert_exporter": "python",
   "pygments_lexer": "ipython3",
   "version": "3.11.5"
  }
 },
 "nbformat": 4,
 "nbformat_minor": 5
}
