{
 "cells": [
  {
   "cell_type": "code",
   "execution_count": 2,
   "id": "46fd0685",
   "metadata": {},
   "outputs": [
    {
     "name": "stdout",
     "output_type": "stream",
     "text": [
      "[2, 4, 6, 8]\n"
     ]
    }
   ],
   "source": [
    "nums = [1,2,3,4,5,6,7,8,9]\n",
    "evens = []\n",
    "\n",
    "for num in nums:\n",
    "    if num % 2 == 0:\n",
    "        evens.append(num)\n",
    "\n",
    "print(evens)"
   ]
  },
  {
   "cell_type": "code",
   "execution_count": 3,
   "id": "bb31b652",
   "metadata": {},
   "outputs": [
    {
     "name": "stdout",
     "output_type": "stream",
     "text": [
      "[2, 4, 6, 8]\n"
     ]
    }
   ],
   "source": [
    "nums = [1,2,3,4,5,6,7,8,9]\n",
    "evens = [num for num in nums if num%2==0]\n",
    "\n",
    "print(evens)"
   ]
  },
  {
   "cell_type": "code",
   "execution_count": 5,
   "id": "83deeabb",
   "metadata": {},
   "outputs": [
    {
     "name": "stdout",
     "output_type": "stream",
     "text": [
      "[1, 4, 9, 16, 25, 36, 49, 64, 81, 100]\n"
     ]
    }
   ],
   "source": [
    "# List comprehension = a way to create a new list with less syntax\n",
    "#                      can mimic certain lambda functions, easier to read\n",
    "#              syntax  list = [expression for item in iterable if conditiona;]\n",
    "\n",
    "squares = []   # Create a empty list\n",
    "for i in range (1,11): # Create a for loop\n",
    "    squares.append(i*i) # define what each loop iteration should do \n",
    "print(squares)"
   ]
  },
  {
   "cell_type": "code",
   "execution_count": 6,
   "id": "0aeff29a",
   "metadata": {},
   "outputs": [
    {
     "name": "stdout",
     "output_type": "stream",
     "text": [
      "[1, 4, 9, 16, 25, 36, 49, 64, 81, 100]\n"
     ]
    }
   ],
   "source": [
    "square = [i*i for i in range(1,11)]\n",
    "print(square)"
   ]
  },
  {
   "cell_type": "code",
   "execution_count": 9,
   "id": "7d32562d",
   "metadata": {},
   "outputs": [
    {
     "name": "stdout",
     "output_type": "stream",
     "text": [
      "[100, 90, 80, 70, 60] [100, 90, 80, 70, 60, 'FAILED', 'FAILED', 'FAILED', 'FAILED']\n"
     ]
    }
   ],
   "source": [
    "students = [100,90,80,70,60,50,40,12,0]\n",
    "\n",
    "passed_students = [i for i in students if i >= 60] # if students passed, print grade\n",
    "\n",
    "failed_students = [i if i >=60 else \"FAILED\" for i in students ]\n",
    "\n",
    "print(passed_students, failed_students)"
   ]
  },
  {
   "cell_type": "code",
   "execution_count": 13,
   "id": "1345dee7",
   "metadata": {},
   "outputs": [
    {
     "name": "stdout",
     "output_type": "stream",
     "text": [
      "sam\n",
      "jess\n",
      "taylor\n"
     ]
    }
   ],
   "source": [
    "my_list =['sam', 'jess', 'taylor']\n",
    "new_list = []\n",
    "for name in my_list:\n",
    "    print(name)\n",
    "    name = name + ' Smith'\n",
    "    new_list.append(name)\n"
   ]
  },
  {
   "cell_type": "code",
   "execution_count": 14,
   "id": "21f248f6",
   "metadata": {},
   "outputs": [
    {
     "data": {
      "text/plain": [
       "['sam Smith', 'jess Smith', 'taylor Smith']"
      ]
     },
     "execution_count": 14,
     "metadata": {},
     "output_type": "execute_result"
    }
   ],
   "source": [
    "new_list"
   ]
  },
  {
   "cell_type": "code",
   "execution_count": 17,
   "id": "0fbd28f8",
   "metadata": {},
   "outputs": [
    {
     "name": "stdout",
     "output_type": "stream",
     "text": [
      "['sam Smith', 'jess Smith', 'taylor Smith']\n"
     ]
    }
   ],
   "source": [
    "# list comprhehension \n",
    "new_list =[name +' Smith' for name in my_list]\n",
    "\n",
    "print(new_list)"
   ]
  },
  {
   "cell_type": "code",
   "execution_count": 18,
   "id": "ab141961",
   "metadata": {},
   "outputs": [
    {
     "name": "stdout",
     "output_type": "stream",
     "text": [
      "[3, 6, 9, 12, 15, 18, 21, 24, 27]\n"
     ]
    }
   ],
   "source": [
    "# list comprehension with numbers\n",
    "\n",
    "num_list = [1,2,3,4,5,6,7,8,9]\n",
    "newNumList = [i*3 for i in num_list]\n",
    "print(newNumList)"
   ]
  },
  {
   "cell_type": "code",
   "execution_count": 29,
   "id": "ed9bb1dd",
   "metadata": {},
   "outputs": [
    {
     "name": "stdout",
     "output_type": "stream",
     "text": [
      "[0, 0, 0][0, 0, 1][0, 0, 2][0, 1, 0][0, 1, 1][1, 0, 0][1, 0, 1][1, 1, 0][1, 1, 2]"
     ]
    }
   ],
   "source": [
    "x = 1 \n",
    "y = 1\n",
    "z = 2\n",
    "n = 3\n",
    "\n",
    "for i in range(x+1):\n",
    "    for j in range(y+1):\n",
    "        for k in range(z+1):\n",
    "            if i+j+k != n:\n",
    "                newList = [i,j,k]\n",
    "                print(newList,end='')"
   ]
  },
  {
   "cell_type": "code",
   "execution_count": 32,
   "id": "9205b79f",
   "metadata": {},
   "outputs": [
    {
     "ename": "SyntaxError",
     "evalue": "invalid syntax (247197530.py, line 2)",
     "output_type": "error",
     "traceback": [
      "\u001b[0;36m  Cell \u001b[0;32mIn[32], line 2\u001b[0;36m\u001b[0m\n\u001b[0;31m    j for j in range(y+1)\u001b[0m\n\u001b[0m    ^\u001b[0m\n\u001b[0;31mSyntaxError\u001b[0m\u001b[0;31m:\u001b[0m invalid syntax\n"
     ]
    }
   ],
   "source": [
    "new_List = [i for i in range(x+1) \n",
    "            j for j in range(y+1) \n",
    "            k for k in range(z+1)\n",
    "            i,j,k if i+j+k != n]\n",
    "\n",
    "print(new_List)"
   ]
  },
  {
   "cell_type": "code",
   "execution_count": 34,
   "id": "b0973ace",
   "metadata": {},
   "outputs": [],
   "source": [
    "new_list = [[i,j,k] for i in range(x+1)\n",
    "                  for j in range(y+1)\n",
    "                  for k in range(z+1)\n",
    "                  if i+j+k == n]"
   ]
  },
  {
   "cell_type": "code",
   "execution_count": 35,
   "id": "22342c0f",
   "metadata": {},
   "outputs": [
    {
     "name": "stdout",
     "output_type": "stream",
     "text": [
      "[[0, 1, 2], [1, 0, 2], [1, 1, 1]]\n"
     ]
    }
   ],
   "source": [
    "print(new_list)"
   ]
  },
  {
   "cell_type": "code",
   "execution_count": null,
   "id": "66a7a911",
   "metadata": {},
   "outputs": [],
   "source": []
  }
 ],
 "metadata": {
  "kernelspec": {
   "display_name": "Python 3 (ipykernel)",
   "language": "python",
   "name": "python3"
  },
  "language_info": {
   "codemirror_mode": {
    "name": "ipython",
    "version": 3
   },
   "file_extension": ".py",
   "mimetype": "text/x-python",
   "name": "python",
   "nbconvert_exporter": "python",
   "pygments_lexer": "ipython3",
   "version": "3.11.5"
  }
 },
 "nbformat": 4,
 "nbformat_minor": 5
}
