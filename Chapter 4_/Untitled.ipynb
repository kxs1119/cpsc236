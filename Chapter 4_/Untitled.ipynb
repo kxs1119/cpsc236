{
 "cells": [
  {
   "cell_type": "code",
   "execution_count": 8,
   "id": "eb98368f",
   "metadata": {},
   "outputs": [
    {
     "name": "stdout",
     "output_type": "stream",
     "text": [
      "Enter a number: 1\n",
      "Enter a number: 1\n",
      "Enter a number: 1\n",
      "Enter a number: 1\n",
      "Enter a number: 1\n",
      "Enter a number: 1\n",
      "Enter a number: 1\n",
      "Enter a number: 1\n",
      "Enter a number: 1\n",
      "Enter a number: 1\n",
      "Enter a number: 1\n",
      "Enter a number: 1\n",
      "Enter a number: 1\n",
      "Enter a number: 1\n",
      "Enter a number: 1\n",
      "[1, 1, 1, 1, 1, 1, 1, 1, 1, 1, 1, 1, 1, 1, 1]\n",
      "Enter a number uou wish to replace withh 0:2\n",
      "\n",
      " [1, 1, 1, 1, 1, 1, 1, 1, 1, 1, 1, 1, 1, 1, 1]\n"
     ]
    }
   ],
   "source": [
    "# This is for the list number \n",
    "\n",
    "myList = []\n",
    "counter = 0\n",
    "\n",
    "while counter < 15:\n",
    "    inp = int(input(\"Enter a number: \"))\n",
    "    myList.append(inp)\n",
    "    counter += 1\n",
    "print(myList)\n",
    "displayCount = 0\n",
    "\n",
    "userSearch = int(input(\"Enter a number uou wish to replace withh 0:\"))\n",
    "for i in range(0,len(myList)):\n",
    "    if myList[i] == userSearch:\n",
    "        del userSearch[i]\n",
    "        myList.insert(i,0)\n",
    "print(\"\\n\", myList)\n",
    "        "
   ]
  },
  {
   "cell_type": "code",
   "execution_count": 9,
   "id": "f3f8e01f",
   "metadata": {},
   "outputs": [
    {
     "name": "stdout",
     "output_type": "stream",
     "text": [
      "[1, 2]\n"
     ]
    }
   ],
   "source": [
    "#Copying a List\n",
    "s1 = []\n",
    "s2 = [1,2]\n",
    "s1 = s1 + s2 # Concatonate \n",
    "print(s1)"
   ]
  },
  {
   "cell_type": "code",
   "execution_count": null,
   "id": "ea3ecfa3",
   "metadata": {},
   "outputs": [],
   "source": [
    "# List as an argument \n",
    "\n",
    "myLis"
   ]
  }
 ],
 "metadata": {
  "kernelspec": {
   "display_name": "Python 3 (ipykernel)",
   "language": "python",
   "name": "python3"
  },
  "language_info": {
   "codemirror_mode": {
    "name": "ipython",
    "version": 3
   },
   "file_extension": ".py",
   "mimetype": "text/x-python",
   "name": "python",
   "nbconvert_exporter": "python",
   "pygments_lexer": "ipython3",
   "version": "3.11.5"
  }
 },
 "nbformat": 4,
 "nbformat_minor": 5
}
