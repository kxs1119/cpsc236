{
 "cells": [
  {
   "cell_type": "code",
   "execution_count": 28,
   "id": "6dce5144-0f93-44a7-b9d2-eb171d9987e3",
   "metadata": {},
   "outputs": [
    {
     "name": "stdout",
     "output_type": "stream",
     "text": [
      "Prime Number Checker\n",
      "\n"
     ]
    },
    {
     "name": "stdin",
     "output_type": "stream",
     "text": [
      "Please enter an integer between 1 and 5000:  299\n"
     ]
    },
    {
     "name": "stdout",
     "output_type": "stream",
     "text": [
      "299 is NOT a Prime Number.\n",
      "[1, 13, 23, 299]\n",
      "\n"
     ]
    },
    {
     "name": "stdin",
     "output_type": "stream",
     "text": [
      " Try again(y/n):  n\n"
     ]
    },
    {
     "name": "stdout",
     "output_type": "stream",
     "text": [
      "\n",
      "Bye\n"
     ]
    }
   ],
   "source": [
    "def factorFinder(number):\n",
    "    factors = [] # Getting factors from number \n",
    "    for i in range(1,number + 1):\n",
    "        if number % i == 0:\n",
    "            factors.append(i) # appemding the number in the list \n",
    "    \n",
    "    return factors\n",
    "                  \n",
    "def main():\n",
    "    stopLoop = False \n",
    "    while stopLoop is False:\n",
    "        print(\"Prime Number Checker\")\n",
    "        print()\n",
    "        inp = int(input(\"Please enter an integer between 1 and 5000: \"))\n",
    "        \n",
    "        if inp <1 or inp >5000:\n",
    "            print(\"Please enter a valid input\")\n",
    "            inp = int(input(\"Please enter an integer between 1 and 5000: \"))\n",
    "        else:\n",
    "            # Print out results \n",
    "            if len(factorFinder(inp)) == 2:\n",
    "                print(str(inp) + \" is a Prime Number. \")\n",
    "            else:\n",
    "                print(str(inp) + \" is NOT a Prime Number.\")\n",
    "                print(factorFinder(inp))\n",
    "                print()\n",
    "        \n",
    "        # Ask users if they would like to continue\n",
    "            continueInp = input(\" Try again(y/n): \")\n",
    "           \n",
    "            if continueInp == 'n':\n",
    "                print()\n",
    "                print(\"Bye\")\n",
    "                break\n",
    "\n",
    "if __name__ == \"__main__\":\n",
    "    main()"
   ]
  },
  {
   "cell_type": "code",
   "execution_count": null,
   "id": "66fd53da-dd48-4631-b9ec-0929926d0d60",
   "metadata": {},
   "outputs": [],
   "source": []
  },
  {
   "cell_type": "code",
   "execution_count": null,
   "id": "7417ccf5-c1f9-43c3-92ac-a2845475882e",
   "metadata": {},
   "outputs": [],
   "source": []
  }
 ],
 "metadata": {
  "kernelspec": {
   "display_name": "Python 3 (ipykernel)",
   "language": "python",
   "name": "python3"
  },
  "language_info": {
   "codemirror_mode": {
    "name": "ipython",
    "version": 3
   },
   "file_extension": ".py",
   "mimetype": "text/x-python",
   "name": "python",
   "nbconvert_exporter": "python",
   "pygments_lexer": "ipython3",
   "version": "3.11.5"
  }
 },
 "nbformat": 4,
 "nbformat_minor": 5
}
